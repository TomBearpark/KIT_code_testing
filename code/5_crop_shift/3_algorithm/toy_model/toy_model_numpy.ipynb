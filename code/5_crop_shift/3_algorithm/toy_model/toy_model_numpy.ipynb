{
 "cells": [
  {
   "cell_type": "markdown",
   "metadata": {},
   "source": [
    "# Crop reallocation algorithm: toy model (numpy version)\n",
    "Trying this one more time, this time using numpy instead of xarray. Need for speed...\n",
    "\n",
    "5/1/20: Adding chi calculation to this."
   ]
  },
  {
   "cell_type": "code",
   "execution_count": 17,
   "metadata": {
    "scrolled": true
   },
   "outputs": [],
   "source": [
    "import numpy as np\n",
    "import pandas as pd\n",
    "import xarray as xr\n",
    "import timeit\n",
    "import copy\n",
    "from numba import jit"
   ]
  },
  {
   "cell_type": "markdown",
   "metadata": {},
   "source": [
    "# 1. Set up parameters\n",
    "Use data from Ishan's code, as numpy arrays"
   ]
  },
  {
   "cell_type": "code",
   "execution_count": 106,
   "metadata": {},
   "outputs": [],
   "source": [
    "# define array dims\n",
    "crops = np.array(['soy', 'rice'])\n",
    "geo0 = np.array([1])\n",
    "geo1 = np.array([1, 2, 3])\n",
    "total_acres = np.array([100, 100, 100])"
   ]
  },
  {
   "cell_type": "code",
   "execution_count": 107,
   "metadata": {},
   "outputs": [],
   "source": [
    "soy_calories_per_bushel = 25\n",
    "rice_calories_per_bushel = 15"
   ]
  },
  {
   "cell_type": "code",
   "execution_count": 108,
   "metadata": {},
   "outputs": [],
   "source": [
    "# present data\n",
    "present_soy_yields = np.array([10, 20, 15])\n",
    "present_rice_yields = np.array([20, 10, 15])\n",
    "\n",
    "# what happens if you scale by a linear factor?\n",
    "present_soy_yields = present_soy_yields\n",
    "present_rice_yields = present_rice_yields\n",
    "\n",
    "present_soy_acreage = np.array([40, 70, 0])\n",
    "present_rice_acreage = np.array([60, 30, 0])\n",
    "\n",
    "present_soy_calories = present_soy_yields*soy_calories_per_bushel\n",
    "present_rice_calories = present_rice_yields*rice_calories_per_bushel\n",
    "\n",
    "present_total_planted_acreage = present_soy_acreage + present_rice_acreage"
   ]
  },
  {
   "cell_type": "code",
   "execution_count": 109,
   "metadata": {},
   "outputs": [],
   "source": [
    "# future data\n",
    "future_soy_yield_shocks = np.array([0.5, 0.8, 1])\n",
    "future_rice_yield_shocks = np.array([0.9, 0.6, 1])\n",
    "\n",
    "future_soy_yields = present_soy_yields * future_soy_yield_shocks\n",
    "future_rice_yields = present_rice_yields * future_rice_yield_shocks\n",
    "\n",
    "future_soy_acreage = present_soy_acreage\n",
    "future_rice_acreage = present_rice_acreage\n",
    "\n",
    "future_soy_calories = future_soy_yields*soy_calories_per_bushel\n",
    "future_rice_calories = future_rice_yields*rice_calories_per_bushel"
   ]
  },
  {
   "cell_type": "markdown",
   "metadata": {},
   "source": [
    "# 2. Set up functions for calculating moments"
   ]
  },
  {
   "cell_type": "code",
   "execution_count": 22,
   "metadata": {},
   "outputs": [],
   "source": [
    "def calculate_gamma(args):\n",
    "    '''\n",
    "    Docstring here!\n",
    "    Parameters:\n",
    "    -----------\n",
    "    args: list\n",
    "        A list with one element per crop. Each element of the list should be another list\n",
    "        of length 2, where the first element is an array of the acres planted of that crop\n",
    "        and the second is an array of the yields in calories per bushel of that crop.\n",
    "    '''\n",
    "    # calculate the number of calories produced in each plot for each crop,\n",
    "    # the sum them all up\n",
    "    total_cal = sum([sum(acres*cals) for acres, cals in args])\n",
    "\n",
    "    # calculate potential calories by picking the max calorie yield on each\n",
    "    # plot and applying it to all the acres planted for that crop\n",
    "    max_cal = np.amax(np.stack([args[i][1] for i in range(len(args))]), axis=0)\n",
    "    total_acres = np.sum(np.stack([args[i][0] for i in range(len(args))]), axis=0)\n",
    "    potential_cal = sum(max_cal * total_acres)\n",
    "\n",
    "    return total_cal / potential_cal"
   ]
  },
  {
   "cell_type": "code",
   "execution_count": 23,
   "metadata": {},
   "outputs": [],
   "source": [
    "def analyze_empty_acreage(total_acres, acres_planted, yields, crop_acreage):\n",
    "    '''\n",
    "    Docstring here!\n",
    "    '''\n",
    "    empty_acres = total_acres - acres_planted\n",
    "\n",
    "    assert(all(empty_acres >= 0))\n",
    "\n",
    "    empty_max_yield = yields[empty_acres > 0].max()\n",
    "    empty_max_id = np.argwhere(\n",
    "        (empty_acres > 0) & (yields == empty_max_yield)).item()\n",
    "\n",
    "    used_min_yield = yields[acres_planted > 0].min()\n",
    "    used_min_id = np.argwhere(\n",
    "        (crop_acreage > 0) & (yields == used_min_yield))\n",
    "    \n",
    "    if used_min_id.size == 0:\n",
    "        used_min_id = np.nan\n",
    "    else:\n",
    "        used_min_id = used_min_id.item()\n",
    "\n",
    "    return [empty_max_id, used_min_id]"
   ]
  },
  {
   "cell_type": "code",
   "execution_count": 24,
   "metadata": {},
   "outputs": [],
   "source": [
    "def calculate_phi(total_acres, acres_planted, yields, crop_acreage):\n",
    "    '''\n",
    "    docstring here!\n",
    "    '''\n",
    "    # calculate actual yield\n",
    "    actual_yield = (crop_acreage*yields).sum()\n",
    "\n",
    "    # calculate potential yield\n",
    "    empty_max_id, used_min_id = (\n",
    "        analyze_empty_acreage(total_acres, acres_planted, yields, crop_acreage))\n",
    "    \n",
    "    crop_acreage = crop_acreage.copy()\n",
    "    acres_planted = acres_planted.copy()\n",
    "    \n",
    "    while (not np.isnan(used_min_id)) and yields[empty_max_id] > yields[used_min_id]:\n",
    "        for a in crop_acreage, acres_planted:\n",
    "            a[empty_max_id] += 1\n",
    "            a[used_min_id] -= 1\n",
    "\n",
    "        empty_max_id, used_min_id = (\n",
    "            analyze_empty_acreage(total_acres, acres_planted, yields, crop_acreage))\n",
    "    \n",
    "    potential_yield = (crop_acreage*yields).sum()\n",
    "\n",
    "    return actual_yield/potential_yield"
   ]
  },
  {
   "cell_type": "markdown",
   "metadata": {},
   "source": [
    "# 3. Write functions that incorporate a climate shock and match moments"
   ]
  },
  {
   "cell_type": "code",
   "execution_count": 110,
   "metadata": {},
   "outputs": [],
   "source": [
    "present_both_args = [total_acres, present_total_planted_acreage]\n",
    "present_soy_args = present_both_args + [present_soy_yields, present_soy_acreage, present_soy_calories]\n",
    "present_rice_args = present_both_args + [present_rice_yields, present_rice_acreage, present_rice_calories]\n",
    "present_args = [present_soy_args, present_rice_args]\n",
    "\n",
    "future_both_args = [total_acres, present_total_planted_acreage]\n",
    "future_soy_args = future_both_args + [future_soy_yields, future_soy_acreage, future_soy_calories]\n",
    "future_rice_args = future_both_args + [future_rice_yields, future_rice_acreage, future_rice_calories]\n",
    "future_args = [future_soy_args, future_rice_args]"
   ]
  },
  {
   "cell_type": "code",
   "execution_count": 26,
   "metadata": {},
   "outputs": [],
   "source": [
    "def calculate_distances(present_args, future_args):\n",
    "    '''\n",
    "    docstring here!\n",
    "    '''\n",
    "    present_moments = (\n",
    "       [calculate_phi(a[0], a[1], a[2], a[3]) for a in present_args] +  \n",
    "       [calculate_gamma([present_args[i][3:] for i in range(len(present_args))])]\n",
    "    )\n",
    "    \n",
    "    future_moments = (\n",
    "       [calculate_phi(a[0], a[1], a[2], a[3]) for a in future_args] +  \n",
    "       [calculate_gamma([future_args[i][3:] for i in range(len(future_args))])]\n",
    "    )\n",
    "\n",
    "    distances = [p - f for p, f in zip(present_moments, future_moments)]\n",
    "\n",
    "    return distances"
   ]
  },
  {
   "cell_type": "code",
   "execution_count": 119,
   "metadata": {},
   "outputs": [],
   "source": [
    "step_size = 1\n",
    "def match_moments(present_args, future_args, step_size=step_size):\n",
    "    '''\n",
    "    Given data on two periods, modify the values in the second period until\n",
    "    moments match across the two periods.\n",
    "\n",
    "    Parameters\n",
    "    ----------\n",
    "    Same as calculate_distances\n",
    "    Returns\n",
    "    -------\n",
    "    The modified data for the second period.\n",
    "    '''\n",
    "    # logger.debug('Calculating initial set of distances')\n",
    "    distances = calculate_distances(present_args, future_args)\n",
    "\n",
    "    future_args = copy.deepcopy(future_args)\n",
    "    present_args = copy.deepcopy(present_args)\n",
    "\n",
    "    counter = 0\n",
    "\n",
    "    # logger.debug('Beginning initial distance loop')\n",
    "    while any(d > 0 for d in distances):\n",
    "        reallocation_info = [analyze_empty_acreage(a[0], a[1], a[2], a[3])\n",
    "                             for a in future_args]\n",
    "        # phi iteration happens first\n",
    "        # note this relies on the fact that calculate_distances returns gamma\n",
    "        # last.\n",
    "        # logger.debug('Iterate phi')\n",
    "        if any(d > 0 for d in distances[:-1]):\n",
    "            for i in range(len(distances) - 1):\n",
    "                if distances[i] > 0:\n",
    "                    for a in [future_args[i][1], future_args[i][3]]:\n",
    "                        a[reallocation_info[i][0]] += step_size  # empty_max_id\n",
    "                        a[reallocation_info[i][1]] -= step_size   # used_min_id\n",
    "\n",
    "        # now iterate over gamma\n",
    "        # logger.debug('Iterate gamma')\n",
    "        if any(d > 0 for d in distances[-1:]):\n",
    "            # switch an acre between the lowest-yielding and highest-yielding\n",
    "            # crop in the location where that gap is largest\n",
    "            # create list of crop level yields from args\n",
    "            crop_yield_list = [future_args[i][2]\n",
    "                               for i in range(len(future_args))]\n",
    "\n",
    "            diffs = []\n",
    "            for i in range(len(crop_yield_list)):\n",
    "                j_list = list(crop_yield_list)  # modify a new copy\n",
    "                del j_list[i]\n",
    "                i_val = crop_yield_list[i]\n",
    "                i_list = [i_val, i_val]\n",
    "                if range(len(j_list) > 2):\n",
    "                    for i in range(len(j_list)):\n",
    "                        i_list = [i_val, i_list]\n",
    "                diffs += [(i - j).tolist() for i, j in zip(i_list, j_list)]\n",
    "\n",
    "            # flatten the list of diffs and take absolute values\n",
    "            diffs = [i for diff in diffs for i in diff]\n",
    "            # note this is picking the first one--not sure if this is desirable\n",
    "            max_diff_id = diffs.index(max(diffs))\n",
    "            min_diff_id = diffs.index(min(diffs))\n",
    "\n",
    "            # check there are equal numbers of plots for each crop\n",
    "            test_list = [len(crop_yield_list[i])\n",
    "                         for i in range(len(crop_yield_list))]\n",
    "            assert all(\n",
    "                [test_list[i] == test_list[0] for i in range(len(test_list))]\n",
    "            )\n",
    "            n_plots = test_list[0]\n",
    "            max_crop_id, min_crop_id = [\n",
    "                i // (n_plots * (len(crop_yield_list) - 1))\n",
    "                for i in [max_diff_id, min_diff_id]]\n",
    "\n",
    "            max_plot_id, min_plot_id = [i % n_plots\n",
    "                                        for i in [max_diff_id, min_diff_id]\n",
    "                                        ]\n",
    "            assert min_plot_id == max_plot_id\n",
    "\n",
    "            future_args[min_crop_id][3][min_plot_id] -= step_size\n",
    "            future_args[max_crop_id][3][max_plot_id] += step_size\n",
    "\n",
    "        # logger.debug('Re-calculate distances')\n",
    "        distances = calculate_distances(present_args, future_args)\n",
    "        counter += 1\n",
    "        \n",
    "        # return future_args\n",
    "        # logger.debug('Distances are {} on interation {}.'\n",
    "        #              .format(distances, counter))\n",
    "\n",
    "        # calculate Q1 and return it\n",
    "        Q1 = sum([future_args[i][3] * future_args[i][4]\n",
    "                 for i in range(len(future_args))]).sum()\n",
    "    return Q1"
   ]
  },
  {
   "cell_type": "code",
   "execution_count": 77,
   "metadata": {},
   "outputs": [],
   "source": [
    "def maximize_output(args, total_area, total_planted_area):\n",
    "    '''\n",
    "    Calculate the maximum possible output given total planted area and yields\n",
    "    in each region.\n",
    "    Parameters\n",
    "    ----------\n",
    "    args: list\n",
    "        A list of lists. Each sub-list should be another list, corresponding to\n",
    "        the data representing one of the two periods we want to compare. The\n",
    "        elements of the sub-sub-lists should be arrays, where each set of\n",
    "        arrays corresponds to a particular crop. Each set of arrays should be\n",
    "        of the same length, and should be ordered such that corresponding\n",
    "        indices of different arrays refer to the same region.\n",
    "        The elements of the list should be as follows: total arable acres in\n",
    "        each region, total planted acres, crop yields per hectare,\n",
    "        crop-specific acreage, and calories yielded per hectare.\n",
    "    total_area: array\n",
    "        Array of the total number of arable hectares in each region. Should be\n",
    "        sorted so indices correspond to the indices in args.\n",
    "    total_planted_area: array\n",
    "        Array of the total number of hectares planted in each region. Should be\n",
    "        sorted so indices correspond to the indices in args.\n",
    "\n",
    "    '''\n",
    "    max_yields = np.amax([args[i][4] for i in range(len(args))], axis=0)\n",
    "\n",
    "    df = (pd.DataFrame({'max_yield': max_yields, 'area': total_area})\n",
    "            .sort_values(by='max_yield', ascending=False))\n",
    "    df['cumulative_area'] = df.area.cumsum()\n",
    "\n",
    "    total_planted_area = sum(total_planted_area)\n",
    "\n",
    "    # identify the top-yielding regions\n",
    "    max_yield_regions = df.loc[df.cumulative_area <= total_planted_area]\n",
    "    # add the first region that is outside of the top, planting only as many\n",
    "    # hectares as are left over\n",
    "    residual_region = df.loc[df.cumulative_area > total_planted_area].iloc[[0]]\n",
    "    residual_space = total_planted_area - sum(max_yield_regions.area)\n",
    "    residual_region.area = residual_space\n",
    "\n",
    "    max_yield_regions = pd.concat([max_yield_regions, residual_region], axis=0)\n",
    "\n",
    "    max_yield = sum(max_yield_regions.area * max_yield_regions.max_yield)\n",
    "    return max_yield\n",
    "\n",
    "\n",
    "def calculate_chi(args, total_area, total_planted_area):\n",
    "    '''\n",
    "    Calculate chi, the ratio of calories grown to the maximum possible\n",
    "    number of calories grown if crops were chosen and allocated perfectly,\n",
    "    conditional on the total number of acres planted.\n",
    "    Parameters\n",
    "    ----------\n",
    "    args: list\n",
    "        A list of lists. Each sub-list should be another list, corresponding to\n",
    "        the data representing one of the two periods we want to compare. The\n",
    "        elements of the sub-sub-lists should be arrays, where each set of\n",
    "        arrays corresponds to a particular crop. Each set of arrays should be\n",
    "        of the same length, and should be ordered such that corresponding\n",
    "        indices of different arrays refer to the same region.\n",
    "        The elements of the list should be as follows: total arable acres in\n",
    "        each region, total planted acres, crop yields per hectare,\n",
    "        crop-specific acreage, and calories yielded per hectare.\n",
    "    total_area: array\n",
    "        Array of the total number of arable hectares in each region. Should be\n",
    "        sorted so indices correspond to the indices in args.\n",
    "    total_planted_area: array\n",
    "        Array of the total number of hectares planted in each region. Should be\n",
    "        sorted so indices correspond to the indices in args.\n",
    "    '''\n",
    "    # sum up total calories by region\n",
    "    calories_grown = sum([args[i][3] * args[i][4] for i in range(len(args))])\n",
    "    # sum over all the regions--this is the numerator of chi\n",
    "    calories_grown = calories_grown.sum()\n",
    "\n",
    "    max_yield = maximize_output(args, total_area, total_planted_area)\n",
    "\n",
    "    return calories_grown / max_yield\n",
    "\n",
    "\n",
    "def match_moment(present_args, future_args, total_area, total_planted_area):\n",
    "    '''\n",
    "    Calculate Q1, the number of calories produced in a future period.\n",
    "    '''\n",
    "    chi = calculate_chi(present_args, total_area, total_planted_area)\n",
    "    max_q1 = maximize_output(future_args, total_area, total_planted_area)\n",
    "\n",
    "    return chi * max_q1"
   ]
  },
  {
   "cell_type": "code",
   "execution_count": 82,
   "metadata": {},
   "outputs": [
    {
     "data": {
      "text/plain": [
       "[[array([100, 100, 100]),\n",
       "  array([100, 100,   0]),\n",
       "  array([10, 20, 15]),\n",
       "  array([40, 70,  0]),\n",
       "  array([250, 500, 375])],\n",
       " [array([100, 100, 100]),\n",
       "  array([100, 100,   0]),\n",
       "  array([20, 10, 15]),\n",
       "  array([60, 30,  0]),\n",
       "  array([300, 150, 225])]]"
      ]
     },
     "execution_count": 82,
     "metadata": {},
     "output_type": "execute_result"
    }
   ],
   "source": [
    "present_args"
   ]
  },
  {
   "cell_type": "code",
   "execution_count": 72,
   "metadata": {},
   "outputs": [
    {
     "data": {
      "text/plain": [
       "array([100, 100,   0])"
      ]
     },
     "execution_count": 72,
     "metadata": {},
     "output_type": "execute_result"
    }
   ],
   "source": [
    "present_total_planted_acreage"
   ]
  },
  {
   "cell_type": "code",
   "execution_count": 73,
   "metadata": {},
   "outputs": [
    {
     "data": {
      "text/plain": [
       "67500"
      ]
     },
     "execution_count": 73,
     "metadata": {},
     "output_type": "execute_result"
    }
   ],
   "source": [
    "40 * 250 + 70 * 500 + 60*300 + 30 * 150"
   ]
  },
  {
   "cell_type": "code",
   "execution_count": 74,
   "metadata": {},
   "outputs": [
    {
     "data": {
      "text/plain": [
       "0.7714285714285715"
      ]
     },
     "execution_count": 74,
     "metadata": {},
     "output_type": "execute_result"
    }
   ],
   "source": [
    "67500 / (50000 + 37500)"
   ]
  },
  {
   "cell_type": "code",
   "execution_count": 79,
   "metadata": {},
   "outputs": [
    {
     "name": "stdout",
     "output_type": "stream",
     "text": [
      "[0.9, 0.9090909090909091]\n",
      "[0.84375]\n",
      "0.7714285714285715\n"
     ]
    }
   ],
   "source": [
    "# calculate phi, gamma, chi in the present\n",
    "f = [calculate_phi(a[0], a[1], a[2], a[3]) for a in present_args]\n",
    "g = [calculate_gamma([present_args[i][3:] for i in range(len(present_args))])]\n",
    "x = calculate_chi(present_args, total_acres, present_total_planted_acreage)\n",
    "print(f, g, x, sep='\\n')"
   ]
  },
  {
   "cell_type": "code",
   "execution_count": 120,
   "metadata": {
    "scrolled": false
   },
   "outputs": [
    {
     "data": {
      "text/plain": [
       "59885.0"
      ]
     },
     "execution_count": 120,
     "metadata": {},
     "output_type": "execute_result"
    }
   ],
   "source": [
    "Q1 = match_moments(present_args, future_args)\n",
    "Q1"
   ]
  },
  {
   "cell_type": "code",
   "execution_count": 117,
   "metadata": {},
   "outputs": [
    {
     "data": {
      "text/plain": [
       "67500"
      ]
     },
     "execution_count": 117,
     "metadata": {},
     "output_type": "execute_result"
    }
   ],
   "source": [
    "Q0 = sum([present_args[i][3] * present_args[i][4]\n",
    "         for i in range(len(present_args))]).sum()"
   ]
  },
  {
   "cell_type": "code",
   "execution_count": 95,
   "metadata": {},
   "outputs": [
    {
     "data": {
      "text/plain": [
       "[-114.53520604258404, -144.34114767155702, 29.80594162897299]"
      ]
     },
     "execution_count": 95,
     "metadata": {},
     "output_type": "execute_result"
    }
   ],
   "source": [
    "calculate_welfare_changes(Q0, Q1)"
   ]
  },
  {
   "cell_type": "markdown",
   "metadata": {},
   "source": [
    "# 4. Shift equilibrium and calculate welfare changes"
   ]
  },
  {
   "cell_type": "code",
   "execution_count": 111,
   "metadata": {},
   "outputs": [],
   "source": [
    "demand_elasticity=-0.1\n",
    "supply_elasticity=1\n",
    "ag_GDP=1000"
   ]
  },
  {
   "cell_type": "code",
   "execution_count": 112,
   "metadata": {},
   "outputs": [],
   "source": [
    "future_args_reallocated = match_moments(present_args, future_args)"
   ]
  },
  {
   "cell_type": "code",
   "execution_count": 118,
   "metadata": {},
   "outputs": [
    {
     "data": {
      "text/plain": [
       "52430.0"
      ]
     },
     "execution_count": 118,
     "metadata": {},
     "output_type": "execute_result"
    }
   ],
   "source": [
    "Q1"
   ]
  },
  {
   "cell_type": "code",
   "execution_count": 113,
   "metadata": {},
   "outputs": [],
   "source": [
    "present_total_cal, future_total_cal, future_total_cal_reallocated = [\n",
    "    sum(\n",
    "        sum(args[i][3] * args[i][4]) for i in range(len(args))) \n",
    "    for args in [present_args, future_args, future_args_reallocated]\n",
    "]\n",
    "\n",
    "# calculate damages (in calories) with and without reallocation\n",
    "calorie_damages_no_reallocation = present_total_cal - future_total_cal\n",
    "calorie_damages_with_reallocation = present_total_cal - future_total_cal_reallocated\n",
    "\n",
    "# Q0: The inital quantity\n",
    "Q0 = present_total_cal\n",
    "# Q1: The quantity considering damages but not price change\n",
    "Q1 = future_total_cal_reallocated\n",
    "# Q2: The quantity considering damagaes and price change\n",
    "Q2 = (\n",
    "    (supply_elasticity - demand_elasticity)/\n",
    "    ((supply_elasticity/Q0) - (demand_elasticity/Q1))\n",
    ")\n",
    "\n",
    "# percent changes\n",
    "P0_P1 = (Q2 / Q0 - 1) / demand_elasticity\n",
    "Q0_Q1 = (Q1 - Q0)/Q0\n",
    "Q1_Q2 = (Q2 - Q1)/Q1\n",
    "Q0_Q2 = (Q2 - Q0)/Q0\n",
    "# areas to calculate: B, C, D, F, G, H\n",
    "C = 0.5*((Q2 - Q1)/Q0)*P0_P1*ag_GDP\n",
    "D = 0.5*-(Q2/Q0 - 1)*P0_P1*ag_GDP\n",
    "F = (Q1/Q0)*(-(Q1/Q0 - 1)/supply_elasticity)*ag_GDP\n",
    "\n",
    "G = (0.5 * \n",
    "     ((Q2 - Q1)/Q0)* # height\n",
    "     (-(Q1/Q0 - 1)/supply_elasticity + # base 1\n",
    "     -(Q2/Q0 - 1)/supply_elasticity) * # base 2\n",
    "    ag_GDP)\n",
    "H = 0.5*(1 - Q2/Q0)*(-(Q2/Q0 - 1)/supply_elasticity)*ag_GDP\n",
    "\n",
    "B = P0_P1*(Q2/Q0)*ag_GDP - C\n",
    "# percent change from P0 to P1\n",
    "P0_P1 = (Q2/Q0 - 1)/demand_elasticity"
   ]
  },
  {
   "cell_type": "code",
   "execution_count": 121,
   "metadata": {},
   "outputs": [
    {
     "name": "stdout",
     "output_type": "stream",
     "text": [
      "237.0406214315355\n",
      "11.121717397390723\n",
      "3.242250659885824\n",
      "100.08763237311385\n",
      "6.039366154861896\n",
      "0.3242250659885824\n"
     ]
    }
   ],
   "source": [
    "# areas to calculate: B, C, D, F, G, H\n",
    "C = 0.5*((Q2 - Q1)/Q0)*P0_P1*ag_GDP\n",
    "D = 0.5*-(Q2/Q0 - 1)*P0_P1*ag_GDP\n",
    "F = (Q1/Q0)*(-(Q1/Q0 - 1)/supply_elasticity)*ag_GDP\n",
    "\n",
    "G = (0.5 * \n",
    "     ((Q2 - Q1)/Q0)* # height\n",
    "     (-(Q1/Q0 - 1)/supply_elasticity + # base 1\n",
    "     -(Q2/Q0 - 1)/supply_elasticity) * # base 2\n",
    "    ag_GDP)\n",
    "H = 0.5*(1 - Q2/Q0)*(-(Q2/Q0 - 1)/supply_elasticity)*ag_GDP\n",
    "\n",
    "B = P0_P1*(Q2/Q0)*ag_GDP - C\n",
    "\n",
    "print(B, C, D, F, G, H, sep='\\n')"
   ]
  },
  {
   "cell_type": "code",
   "execution_count": 122,
   "metadata": {
    "scrolled": true
   },
   "outputs": [
    {
     "name": "stdout",
     "output_type": "stream",
     "text": [
      "-251.40458948881204\n",
      "130.58939783757117\n",
      "-120.81519165124087\n"
     ]
    }
   ],
   "source": [
    "# calculate consumer and producer surplus changes\n",
    "delta_CS = -B - C - D\n",
    "delta_PS = B - F - G - H\n",
    "tot = delta_CS + delta_PS\n",
    "\n",
    "print(delta_CS, delta_PS, tot, sep='\\n')"
   ]
  },
  {
   "cell_type": "code",
   "execution_count": 90,
   "metadata": {},
   "outputs": [],
   "source": [
    "def calculate_welfare_changes(Q0, Q1, demand_elasticity=0.1,\n",
    "                              supply_elasticity=1, ag_GDP=1000):\n",
    "    '''\n",
    "    Calculate welfare changes resulting from climate shock to agricultural\n",
    "    production.\n",
    "    Parameters\n",
    "    ----------\n",
    "    Q0: float\n",
    "        Total calories produced before the climate shock\n",
    "    Q1: float\n",
    "        Total calories produced after the climate shock but before considering\n",
    "        the equilibrium shift\n",
    "    '''\n",
    "    # Calculate Q2: post-climate shock quantity with equilibrium shift\n",
    "    Q2 = (\n",
    "        (supply_elasticity - demand_elasticity) /\n",
    "        ((supply_elasticity / Q0) - (demand_elasticity / Q1))\n",
    "    )\n",
    "\n",
    "    # percent change from P0 to P1\n",
    "    P0_P1 = (Q2 / Q0 - 1) / demand_elasticity\n",
    "\n",
    "    # calculate areas corresponding to welfare\n",
    "    # areas to calculate: B, C, D, F, G, H\n",
    "    C = 0.5 * ((Q2 - Q1) / Q0) * P0_P1 * ag_GDP\n",
    "    D = 0.5 * -(Q2 / Q0 - 1) * P0_P1 * ag_GDP\n",
    "    F = (Q1 / Q0) * (-(Q1 / Q0 - 1) / supply_elasticity) * ag_GDP\n",
    "\n",
    "    G = (0.5 *\n",
    "         ((Q2 - Q1) / Q0) *  # height\n",
    "         (-(Q1 / Q0 - 1) / supply_elasticity +  # base 1\n",
    "          -(Q2 / Q0 - 1) / supply_elasticity) *  # base 2\n",
    "         ag_GDP)\n",
    "    H = 0.5 * (1 - Q2 / Q0) * (-(Q2 / Q0 - 1) / supply_elasticity) * ag_GDP\n",
    "\n",
    "    B = P0_P1 * (Q2 / Q0) * ag_GDP - C\n",
    "\n",
    "    # calculate consumer and producer surplus changes\n",
    "    delta_CS = -B - C - D\n",
    "    delta_PS = B - F - G - H\n",
    "    total_welfare_change = delta_CS + delta_PS\n",
    "    return [total_welfare_change, delta_CS, delta_PS]"
   ]
  },
  {
   "cell_type": "markdown",
   "metadata": {},
   "source": [
    "# Benchmark"
   ]
  },
  {
   "cell_type": "code",
   "execution_count": null,
   "metadata": {
    "scrolled": true
   },
   "outputs": [],
   "source": [
    "timeit.timeit(\"lambda: calculate_phi(present_rice_yields, present_rice_acreage, present_total_planted_acreage)\")"
   ]
  },
  {
   "cell_type": "code",
   "execution_count": 29,
   "metadata": {},
   "outputs": [
    {
     "name": "stdout",
     "output_type": "stream",
     "text": [
      "64.9 ns ± 3.23 ns per loop (mean ± std. dev. of 7 runs, 100000 loops each)\n"
     ]
    }
   ],
   "source": [
    "%timeit -n 100000 lambda: calculate_phi(present_rice_yields, present_rice_acreage, present_total_planted_acreage)"
   ]
  },
  {
   "cell_type": "code",
   "execution_count": null,
   "metadata": {
    "scrolled": true
   },
   "outputs": [],
   "source": [
    "%timeit -n 100000 lambda: match_moments(present_args, future_args)"
   ]
  }
 ],
 "metadata": {
  "kernelspec": {
   "display_name": "Python 3",
   "language": "python",
   "name": "python3"
  },
  "language_info": {
   "codemirror_mode": {
    "name": "ipython",
    "version": 3
   },
   "file_extension": ".py",
   "mimetype": "text/x-python",
   "name": "python",
   "nbconvert_exporter": "python",
   "pygments_lexer": "ipython3",
   "version": "3.7.6"
  }
 },
 "nbformat": 4,
 "nbformat_minor": 4
}
