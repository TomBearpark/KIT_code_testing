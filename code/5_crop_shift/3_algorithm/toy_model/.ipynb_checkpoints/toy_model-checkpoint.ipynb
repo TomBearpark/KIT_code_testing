{
 "cells": [
  {
   "cell_type": "markdown",
   "metadata": {},
   "source": [
    "# Crop reallocation algorithm: toy model\n",
    "This notebook translates Ishan's Matlab code setting up a toy version of our crop reallocation model into Python\n",
    "\n",
    "## Questions for Ishan\n",
    "- Confirm that my overall understanding is correct: that the data we're operating on is region-level (IR or geolev1). It seems like maybe we should be operating at the raster pixel level, but then how do we know how much yield is coming from that pixel?\n",
    "- Is the way we want to calculate calories actually what’s done in Ishan’s current code? Seems like this assumes calories per acre are uniform across the whole adm1 unit which doesn’t seem right\n",
    "- How will we break ties in the min yield planted/max yield empty calculation? This could matter especially if the locations have different climate draws/climate sensitivity\n",
    "- How are we incorporating switching costs, again? Is there some condition where we are forcing costs to weakly exceed benefits?\n",
    "- discuss correct way to iterate over gamma\n",
    "- implementation is slow even with this toy example. For this to be feasible, we're going to need to think about how to speed things up significantly.\n",
    "\n",
    "## Things to follow up on\n",
    "- Probably want to change data storage so it works with arrays. Will be faster, better able to read projection system outputs, and generally easier to integrate with impact-calculations (need to check all this with James/Brewster)\n",
    "- Seems useful to develop a suite of visualizations that helps us understand the steps in the algorithm (and where there's possibility for improvement)\n",
    "\n",
    "## Immediate next steps\n",
    "- Build in gamma iteration and elasticity iteration"
   ]
  },
  {
   "cell_type": "code",
   "execution_count": null,
   "metadata": {
    "scrolled": true
   },
   "outputs": [],
   "source": [
    "import numpy as np\n",
    "import pandas as pd\n",
    "import matplotlib.pyplot as plt"
   ]
  },
  {
   "cell_type": "markdown",
   "metadata": {},
   "source": [
    "# 1. Set up parameters\n",
    "Here I'm just taking the values from Ishan's code, but attempting to structure them in a way that will work for more data"
   ]
  },
  {
   "cell_type": "code",
   "execution_count": null,
   "metadata": {},
   "outputs": [],
   "source": [
    "# the list of crops we're working with\n",
    "crops = ['soy', 'rice']\n",
    "\n",
    "# Initial conditions\n",
    "yields = pd.DataFrame({\n",
    "    'geo0_id': [1, 1, 1, 1, 1, 1],\n",
    "    'geo1_id': [1, 2, 3, 1, 2, 3],\n",
    "    'crop': ['soy', 'soy', 'soy', 'rice', 'rice', 'rice'],\n",
    "    'yield': [10, 20, 15, 20, 10, 15]\n",
    "})\n",
    "\n",
    "calories = pd.DataFrame({\n",
    "    'crop': ['soy', 'rice'],\n",
    "    'calories': [25, 15]\n",
    "})\n",
    "\n",
    "acreage = pd.DataFrame({\n",
    "    'geo0_id': [1, 1, 1, 1, 1, 1],\n",
    "    'geo1_id': [1, 2, 3, 1, 2, 3],\n",
    "    'crop': ['soy', 'soy', 'soy', 'rice', 'rice', 'rice'],\n",
    "    'acres_planted': [40, 70, 0, 60, 30, 0],\n",
    "    'total_acres': [100, 100, 100, 100, 100, 100]\n",
    "})\n",
    "\n",
    "# may want to turn the lines that return the merged dataframe into a function that\n",
    "# standardizes datasets--tbd\n",
    "present_yields = (yields\n",
    "          .merge(calories, how='left', on='crop')\n",
    "          .merge(acreage, how='left', on=['crop', 'geo1_id', 'geo0_id'])\n",
    "         )\n",
    "    \n",
    "present_yields['calorie_yield'] = present_yields['yield'] * present_yields['calories']"
   ]
  },
  {
   "cell_type": "code",
   "execution_count": null,
   "metadata": {},
   "outputs": [],
   "source": [
    "# Climate shocks\n",
    "# This will eventually be the real projections from the ag sector.\n",
    "# Before then, we'll use random draws.\n",
    "# Just use Ishan's numbers for now.\n",
    "\n",
    "yield_shocks = pd.DataFrame({\n",
    "    'geo0_id': [1, 1, 1, 1, 1, 1],\n",
    "    'geo1_id': [1, 2, 3, 1, 2, 3],\n",
    "    'crop': ['soy', 'soy', 'soy', 'rice', 'rice', 'rice'],\n",
    "    'yield_shock': [0.5, 0.8, 1, 0.9, 0.6, 1]\n",
    "})\n",
    "\n",
    "future_yields = (yield_shocks\n",
    "                 .merge(present_yields, how='outer', on=['geo0_id', 'geo1_id', 'crop'])\n",
    "                )\n",
    "future_yields['future_yield'] = future_yields['yield'] * future_yields['yield_shock']\n",
    "\n",
    "# replace the yield column with the future yield column and re-calculate moments\n",
    "future_yields['yield'] = future_yields['future_yield']\n",
    "future_yields.drop('future_yield', inplace=True, axis=1)"
   ]
  },
  {
   "cell_type": "markdown",
   "metadata": {},
   "source": [
    "# 2. Set up functions for calculating moments"
   ]
  },
  {
   "cell_type": "markdown",
   "metadata": {},
   "source": [
    "### Moment 1: Gamma"
   ]
  },
  {
   "cell_type": "code",
   "execution_count": null,
   "metadata": {},
   "outputs": [],
   "source": [
    "# update docstring when this is stable\n",
    "def calculate_gamma(df):\n",
    "    '''\n",
    "    Calculate 'gamma', the ratio of total calories produced to possible \n",
    "    calories produced.\n",
    "    \n",
    "    Parameters:\n",
    "    -----------\n",
    "    df: DataFrame\n",
    "        ***Description here***\n",
    "        \n",
    "    '''\n",
    "\n",
    "    total_cal = sum(df['calorie_yield'] * df['acres_planted'])\n",
    "\n",
    "    # not sure this potential calorie calculation is what we actually want\n",
    "    potential_cal = (df\n",
    "        .groupby('geo1_id')\n",
    "        .agg({'calorie_yield': 'max', 'acres_planted': 'sum'})\n",
    "    )\n",
    "    \n",
    "    potential_cal = sum(potential_cal['calorie_yield'] * potential_cal['acres_planted'])\n",
    "    \n",
    "    return  total_cal / potential_cal"
   ]
  },
  {
   "cell_type": "markdown",
   "metadata": {},
   "source": [
    "### Moment 2: Phi"
   ]
  },
  {
   "cell_type": "code",
   "execution_count": null,
   "metadata": {},
   "outputs": [],
   "source": [
    "def analyze_empty_acreage(df, crop):\n",
    "    '''\n",
    "    Returns the yield and plot id for the plot with the highest yield that currently has \n",
    "    empty space, as well as the yield and plot id for the plot with the lowest yield that \n",
    "    is currently occupied.\n",
    "    These are the conditions that will be calculated in each iteration of the loop in\n",
    "    `calculate_phi`\n",
    "    \n",
    "   Parameters:\n",
    "    -----------\n",
    "    df: DataFrame\n",
    "        ***Description here***\n",
    "    \n",
    "    crop: str\n",
    "        The name of the crop you want to calculate phi for\n",
    "    \n",
    "    '''\n",
    "    # set up initial conditions\n",
    "    total_acres = (df[['geo0_id', 'geo1_id', 'acres_planted']]\n",
    "                   .copy()\n",
    "                   .groupby(['geo0_id', 'geo1_id'])\n",
    "                   .sum()\n",
    "                   .rename(columns={'acres_planted':'total_acres_planted'})\n",
    "        )\n",
    "    df = df.merge(total_acres, how='left', on=['geo0_id', 'geo1_id'])\n",
    "    df['empty_acres'] = df['total_acres'] - df['total_acres_planted']\n",
    "\n",
    "    assert all(df['empty_acres'] >= 0)\n",
    "\n",
    "    empty_max_yield = max(\n",
    "        df.loc[\n",
    "            (df['empty_acres'] > 0) & (df['crop'] == crop), 'yield'\n",
    "        ]\n",
    "    )\n",
    "    empty_max_id = df.loc[\n",
    "        (df['yield'] == empty_max_yield) & (df['crop'] == crop), ['geo0_id', 'geo1_id']\n",
    "    ]\n",
    "    used_min_yield = min(\n",
    "        df.loc[\n",
    "            (df['acres_planted'] > 0) & (df['crop'] == crop), 'yield'\n",
    "        ]\n",
    "    )\n",
    "    used_min_id = df.loc[\n",
    "        (df['yield'] == used_min_yield) & (df['crop'] == crop), ['geo0_id', 'geo1_id']\n",
    "    ]\n",
    " \n",
    "    return [empty_max_yield, used_min_yield, empty_max_id, used_min_id]"
   ]
  },
  {
   "cell_type": "code",
   "execution_count": null,
   "metadata": {},
   "outputs": [],
   "source": [
    "def reallocate_crops(df, crop, empty_max_yield, used_min_yield, empty_max_id, used_min_id):\n",
    "    '''\n",
    "    A loop to reallocate crop area, moving one acre at a time from the lowest-yielding parcel\n",
    "    of the crop to the highest-yielding unoccupied parcel\n",
    "    \n",
    "    Parameters:\n",
    "    -----------\n",
    "    df: DataFrame\n",
    "        ***Description here***\n",
    "    \n",
    "    crop: str\n",
    "        The name of the crop you want to calculate for\n",
    "        \n",
    "    cond: bool\n",
    "        The condition for your while loop\n",
    "    '''\n",
    "    df = df.copy()\n",
    "    \n",
    "    min_cond = (\n",
    "        (df['geo0_id'] == used_min_id['geo0_id'].values[0]) &\n",
    "        (df['geo1_id'] == used_min_id['geo1_id'].values[0]) &\n",
    "        (df['crop'] == crop)\n",
    "    )\n",
    "\n",
    "    val = df.loc[min_cond, 'acres_planted']\n",
    "    df.loc[min_cond, 'acres_planted'] = val - 1\n",
    "\n",
    "    # add one acre to the highest-yielding plot that is currently empty\n",
    "    max_cond = (\n",
    "        (df['geo0_id'] == empty_max_id['geo0_id'].values[0]) &\n",
    "        (df['geo1_id'] == empty_max_id['geo1_id'].values[0]) &\n",
    "        (df['crop'] == crop)\n",
    "    )\n",
    "    val = df.loc[max_cond, 'acres_planted']\n",
    "    df.loc[max_cond, 'acres_planted'] = val + 1\n",
    "        \n",
    "    return df"
   ]
  },
  {
   "cell_type": "code",
   "execution_count": null,
   "metadata": {},
   "outputs": [],
   "source": [
    "def calculate_phi(df, crop):\n",
    "    '''\n",
    "    Calculate 'phi', the ratio of actual yields to the maximum possible\n",
    "    yield that would be realized in a perfectly frictionless scenario\n",
    "    with optimal acreage placement in a country. \n",
    "    \n",
    "    Parameters:\n",
    "    -----------\n",
    "    df: DataFrame\n",
    "        ***Description here***\n",
    "    \n",
    "    crop: str\n",
    "        The name of the crop you want to calculate phi for\n",
    "    '''\n",
    "\n",
    "    # don't modify the original data\n",
    "    df = df.copy()\n",
    "    \n",
    "    # calculate actual yields\n",
    "    data = df[df.crop == crop].copy()\n",
    "    data['total_yield'] = data['acres_planted'] * data['yield']\n",
    "    actual_yield = sum(data['total_yield'])\n",
    "    \n",
    "    # calculate the potential yield\n",
    "    # set up initial conditions    \n",
    "    empty_max_yield, used_min_yield, empty_max_id, used_min_id = (\n",
    "        analyze_empty_acreage(df, crop)\n",
    "    )\n",
    "    \n",
    "    # reallocate crops from lowest used yield to highest empty yield\n",
    "    while empty_max_yield > used_min_yield:\n",
    "        df = reallocate_crops(df, \n",
    "                              crop, \n",
    "                              empty_max_yield, \n",
    "                              used_min_yield, \n",
    "                              empty_max_id, \n",
    "                              used_min_id)\n",
    "        \n",
    "        # recalculate empty acreage\n",
    "        empty_max_yield, used_min_yield, empty_max_id, used_min_id = (\n",
    "            analyze_empty_acreage(df, crop)\n",
    "        )\n",
    "    \n",
    "    # calculate potential yiels using the reallocated data\n",
    "    data = df[df.crop == crop].copy()\n",
    "    data['total_yield'] = data['acres_planted'] * data['yield']\n",
    "    potential_yield = sum(data['total_yield'])\n",
    "    \n",
    "    return actual_yield/potential_yield"
   ]
  },
  {
   "cell_type": "markdown",
   "metadata": {},
   "source": [
    "## Combine the moments calculation into a single function\n",
    "Not convinced this step is necessary at this stage. Move on and come back to this if it turns out to be needed."
   ]
  },
  {
   "cell_type": "code",
   "execution_count": null,
   "metadata": {},
   "outputs": [],
   "source": [
    "# note: try to do this in a crop-agnostic way\n",
    "def calculate_moments(\n",
    "    soy_yields,\n",
    "    rice_yields,\n",
    "    soy_acreage,\n",
    "    rice_acreage,\n",
    "    acreage,\n",
    "    soy_calories_per_bushel,\n",
    "    rice_calories_per_bushel\n",
    "    ):\n",
    "    \n",
    "    \n",
    "    return # want to return gamma and crop-specific phis"
   ]
  },
  {
   "cell_type": "markdown",
   "metadata": {},
   "source": [
    "# 3. Write functions that incorporate a climate shock and match moments\n",
    "\n",
    "Just doing this inline for now, will be functionalized eventually."
   ]
  },
  {
   "cell_type": "code",
   "execution_count": null,
   "metadata": {},
   "outputs": [],
   "source": [
    "def calculate_distances(present, future, crops):\n",
    "    present_moments = [calculate_gamma(present)] + [calculate_phi(present, c) for c in crops]\n",
    "    future_moments = [calculate_gamma(future)] + [calculate_phi(future, c) for c in crops]\n",
    "\n",
    "    distances = [p - f for p, f in zip(present_moments, future_moments)]\n",
    "    return distances\n",
    "\n",
    "distances = calculate_distances(merged, future_yields, crops)"
   ]
  },
  {
   "cell_type": "code",
   "execution_count": null,
   "metadata": {},
   "outputs": [],
   "source": [
    "def match_moments(present, future, crops):\n",
    "    distances = calculate_distances(present, future, crops)\n",
    "    while any(d > 0 for d in distances):\n",
    "        # print(distances)\n",
    "        if distances[0] > 0:\n",
    "        # add gamma iteration here\n",
    "            raise NotImplementedError('gamma iteration not yet implemented')\n",
    "            \n",
    "        # reallocate crops simultaneously.\n",
    "        # note that this means a plot of land could fill up. \n",
    "        # will need to tinker with this possibility\n",
    "        reallocation_info = [analyze_empty_acreage(future, c) for c in crops]\n",
    "        for i in range(len(crops)):\n",
    "            if distances[i + 1] > 0:\n",
    "                future = reallocate_crops(\n",
    "                    future, \n",
    "                    crops[i],\n",
    "                    reallocation_info[i][0], \n",
    "                    reallocation_info[i][1], \n",
    "                    reallocation_info[i][2], \n",
    "                    reallocation_info[i][3]\n",
    "                )\n",
    "\n",
    "            # recalculate distances\n",
    "            distances = calculate_distances(present, future, crops)\n",
    "    \n",
    "    return(future)"
   ]
  },
  {
   "cell_type": "markdown",
   "metadata": {},
   "source": [
    "### Do some profiling"
   ]
  },
  {
   "cell_type": "code",
   "execution_count": null,
   "metadata": {},
   "outputs": [],
   "source": [
    "import cProfile\n",
    "import timeit\n",
    "from numba import jit"
   ]
  },
  {
   "cell_type": "code",
   "execution_count": null,
   "metadata": {},
   "outputs": [],
   "source": [
    "any([d > 0 for d in distances])\n"
   ]
  },
  {
   "cell_type": "code",
   "execution_count": null,
   "metadata": {},
   "outputs": [],
   "source": [
    "# creat a numba version to see if it's any faster\n",
    "@jit\n",
    "def match_moments_faster(present, future, crops):\n",
    "    distances = calculate_distances(present, future, crops)\n",
    "    while any([d > 0 for d in distances]):\n",
    "        # print(distances)\n",
    "        if distances[0] > 0:\n",
    "        # add gamma iteration here\n",
    "            raise NotImplementedError('gamma iteration not yet implemented')\n",
    "            \n",
    "        # reallocate crops simultaneously.\n",
    "        # note that this means a plot of land could fill up. \n",
    "        # will need to tinker with this possibility\n",
    "        reallocation_info = [analyze_empty_acreage(future, c) for c in crops]\n",
    "        for i in range(len(crops)):\n",
    "            if distances[i + 1] > 0:\n",
    "                future = reallocate_crops(\n",
    "                    future, \n",
    "                    crops[i],\n",
    "                    reallocation_info[i][0], \n",
    "                    reallocation_info[i][1], \n",
    "                    reallocation_info[i][2], \n",
    "                    reallocation_info[i][3]\n",
    "                )\n",
    "\n",
    "            # recalculate distances\n",
    "            distances = calculate_distances(present, future, crops)\n",
    "    \n",
    "    return(future)"
   ]
  },
  {
   "cell_type": "code",
   "execution_count": null,
   "metadata": {},
   "outputs": [],
   "source": [
    "# time the numba and non-numba versions\n",
    "def wrapper():\n",
    "    return match_moments(present_yields, future_yields, ['soy', 'rice'])\n",
    "\n",
    "timeit.timeit(wrapper, number=1)"
   ]
  },
  {
   "cell_type": "code",
   "execution_count": null,
   "metadata": {},
   "outputs": [],
   "source": [
    "def wrapper():\n",
    "    return match_moments_faster(present_yields, future_yields, ['soy', 'rice'])\n",
    "\n",
    "timeit.timeit(wrapper, number=1)"
   ]
  },
  {
   "cell_type": "code",
   "execution_count": null,
   "metadata": {},
   "outputs": [],
   "source": [
    "cProfile.run(\n",
    "    \"match_moments(present=present_yields, future=future_yields, crops=['soy', 'rice'])\"\n",
    ")"
   ]
  },
  {
   "cell_type": "code",
   "execution_count": null,
   "metadata": {},
   "outputs": [],
   "source": [
    "cProfile.run(\n",
    "    \"analyze_empty_acreage(future_yields, 'soy')\"\n",
    ")"
   ]
  },
  {
   "cell_type": "code",
   "execution_count": null,
   "metadata": {},
   "outputs": [],
   "source": []
  },
  {
   "cell_type": "markdown",
   "metadata": {},
   "source": [
    "# 4. Test these new functions out on Ishan's examples"
   ]
  },
  {
   "cell_type": "code",
   "execution_count": null,
   "metadata": {},
   "outputs": [],
   "source": [
    "# the list of crops we're working with\n",
    "crops = ['soy', 'rice']\n",
    "\n",
    "# Initial conditions\n",
    "yields = pd.DataFrame({\n",
    "    'geo0_id': [1, 1, 1, 1, 1, 1],\n",
    "    'geo1_id': [1, 2, 3, 1, 2, 3],\n",
    "    'crop': ['soy', 'soy', 'soy', 'rice', 'rice', 'rice'],\n",
    "    'yield': [10, 20, 15, 20, 10, 15]\n",
    "})\n",
    "\n",
    "calories = pd.DataFrame({\n",
    "    'crop': ['soy', 'rice'],\n",
    "    'calories': [25, 15]\n",
    "})\n",
    "\n",
    "acreage = pd.DataFrame({\n",
    "    'geo0_id': [1, 1, 1, 1, 1, 1],\n",
    "    'geo1_id': [1, 2, 3, 1, 2, 3],\n",
    "    'crop': ['soy', 'soy', 'soy', 'rice', 'rice', 'rice'],\n",
    "    'acres_planted': [40, 70, 0, 60, 30, 0],\n",
    "    'total_acres': [100, 100, 100, 100, 100, 100]\n",
    "})\n",
    "\n",
    "# may want to turn the lines that return the merged dataframe into a function that\n",
    "# standardizes datasets--tbd\n",
    "present_yields = (yields\n",
    "          .merge(calories, how='left', on='crop')\n",
    "          .merge(acreage, how='left', on=['crop', 'geo1_id', 'geo0_id'])\n",
    "         )\n",
    "    \n",
    "present_yields['calorie_yield'] = present_yields['yield'] * present_yields['calories']"
   ]
  },
  {
   "cell_type": "code",
   "execution_count": null,
   "metadata": {},
   "outputs": [],
   "source": [
    "# Climate shocks\n",
    "# This will eventually be the real projections from the ag sector.\n",
    "# Before then, we'll use random draws.\n",
    "# Just use Ishan's numbers for now.\n",
    "\n",
    "yield_shocks = pd.DataFrame({\n",
    "    'geo0_id': [1, 1, 1, 1, 1, 1],\n",
    "    'geo1_id': [1, 2, 3, 1, 2, 3],\n",
    "    'crop': ['soy', 'soy', 'soy', 'rice', 'rice', 'rice'],\n",
    "    'yield_shock': [0.5, 0.8, 1, 0.9, 0.6, 1]\n",
    "})\n",
    "\n",
    "future_yields = (yield_shocks\n",
    "                 .merge(present_yields, how='outer', on=['geo0_id', 'geo1_id', 'crop'])\n",
    "                )\n",
    "future_yields['future_yield'] = future_yields['yield'] * future_yields['yield_shock']\n",
    "\n",
    "# replace the yield column with the future yield column and re-calculate moments\n",
    "future_yields['yield'] = future_yields['future_yield']\n",
    "future_yields.drop('future_yield', inplace=True, axis=1)"
   ]
  },
  {
   "cell_type": "code",
   "execution_count": null,
   "metadata": {},
   "outputs": [],
   "source": [
    "present_yields"
   ]
  },
  {
   "cell_type": "code",
   "execution_count": null,
   "metadata": {},
   "outputs": [],
   "source": [
    "present_yields.loc[present_yields['crop'] == 'soy', 'acres_planted']"
   ]
  },
  {
   "cell_type": "code",
   "execution_count": null,
   "metadata": {},
   "outputs": [],
   "source": [
    "x"
   ]
  },
  {
   "cell_type": "code",
   "execution_count": null,
   "metadata": {},
   "outputs": [],
   "source": [
    "# function for making barplots of raw data\n",
    "def make_barplot(col, ylabel, df=present_yields):\n",
    "    labels = [1, 2, 3]\n",
    "    x = np.arange(len(labels))\n",
    "    width = 0.35\n",
    "    \n",
    "    fig, ax = plt.subplots()\n",
    "    bar1 = ax.bar(\n",
    "        x + width/2,\n",
    "        df.loc[df['crop'] == 'rice', col],\n",
    "        width,\n",
    "        label = 'rice'\n",
    "    )\n",
    "\n",
    "    bar2 = ax.bar(\n",
    "        x - width/2, \n",
    "        df.loc[df['crop'] == 'soy', col],\n",
    "        width,\n",
    "        label = 'soy'\n",
    "    )\n",
    "\n",
    "    ax.set_ylabel(ylabel)\n",
    "    ax.set_xlabel('Field')\n",
    "    ax.set_xticks(x)\n",
    "    ax.legend()\n",
    "    return plt.show()"
   ]
  },
  {
   "cell_type": "code",
   "execution_count": null,
   "metadata": {
    "scrolled": true
   },
   "outputs": [],
   "source": [
    "# plot total current acreage\n",
    "make_barplot('acres_planted', 'Acres planted')"
   ]
  },
  {
   "cell_type": "code",
   "execution_count": null,
   "metadata": {
    "scrolled": true
   },
   "outputs": [],
   "source": [
    "# plot current yields\n",
    "make_barplot('yield', 'Yield')"
   ]
  },
  {
   "cell_type": "code",
   "execution_count": null,
   "metadata": {},
   "outputs": [],
   "source": [
    "# plot calories per acre\n",
    "make_barplot('calorie_yield', 'Calories')"
   ]
  },
  {
   "cell_type": "markdown",
   "metadata": {},
   "source": [
    "Given the above raw data, our expected values for phi are 0.9 for soy and 0.909 for rice. Does my code give us this?"
   ]
  },
  {
   "cell_type": "code",
   "execution_count": null,
   "metadata": {},
   "outputs": [],
   "source": [
    "calculate_phi(present_yields, 'soy')"
   ]
  },
  {
   "cell_type": "code",
   "execution_count": null,
   "metadata": {},
   "outputs": [],
   "source": [
    "calculate_phi(present_yields, 'rice')"
   ]
  },
  {
   "cell_type": "code",
   "execution_count": null,
   "metadata": {},
   "outputs": [],
   "source": [
    "# plot climate shock ratios\n",
    "make_barplot(df=future_yields, col='yield_shock', ylabel='Future Yield/Current Yield')"
   ]
  },
  {
   "cell_type": "code",
   "execution_count": null,
   "metadata": {},
   "outputs": [],
   "source": []
  }
 ],
 "metadata": {
  "kernelspec": {
   "display_name": "Python 3",
   "language": "python",
   "name": "python3"
  },
  "language_info": {
   "codemirror_mode": {
    "name": "ipython",
    "version": 3
   },
   "file_extension": ".py",
   "mimetype": "text/x-python",
   "name": "python",
   "nbconvert_exporter": "python",
   "pygments_lexer": "ipython3",
   "version": "3.7.6"
  }
 },
 "nbformat": 4,
 "nbformat_minor": 4
}
