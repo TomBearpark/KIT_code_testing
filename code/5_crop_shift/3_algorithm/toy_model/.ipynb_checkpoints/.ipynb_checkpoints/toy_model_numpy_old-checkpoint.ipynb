{
 "cells": [
  {
   "cell_type": "markdown",
   "metadata": {},
   "source": [
    "# Crop reallocation algorithm: toy model (numpy version)\n",
    "Trying this one more time, this time using numpy instead of xarray. Need for speed..."
   ]
  },
  {
   "cell_type": "code",
   "execution_count": 1,
   "metadata": {},
   "outputs": [
    {
     "name": "stderr",
     "output_type": "stream",
     "text": [
      "/Users/simongreenhill/miniconda3/envs/risingverse/lib/python3.7/site-packages/xarray/core/merge.py:10: FutureWarning: The Panel class is removed from pandas. Accessing it from the top-level namespace will also be removed in the next version\n",
      "  PANDAS_TYPES = (pd.Series, pd.DataFrame, pd.Panel)\n"
     ]
    }
   ],
   "source": [
    "import numpy as np\n",
    "import pandas as pd\n",
    "import xarray as xr\n",
    "import timeit\n",
    "import copy\n",
    "from numba import jit"
   ]
  },
  {
   "cell_type": "markdown",
   "metadata": {},
   "source": [
    "# 1. Set up parameters\n",
    "Use data from Ishan's code, as numpy arrays"
   ]
  },
  {
   "cell_type": "code",
   "execution_count": 2,
   "metadata": {},
   "outputs": [],
   "source": [
    "# define array dims\n",
    "crops = np.array(['soy', 'rice'])\n",
    "geo0 = np.array([1])\n",
    "geo1 = np.array([1, 2, 3])\n",
    "total_acres = np.array([100, 100, 100])"
   ]
  },
  {
   "cell_type": "code",
   "execution_count": 3,
   "metadata": {},
   "outputs": [],
   "source": [
    "soy_calories_per_bushel = 25\n",
    "rice_calories_per_bushel = 15"
   ]
  },
  {
   "cell_type": "code",
   "execution_count": 4,
   "metadata": {},
   "outputs": [],
   "source": [
    "# present data\n",
    "present_soy_yields = np.array([10, 20, 15])\n",
    "present_rice_yields = np.array([20, 10, 15])\n",
    "\n",
    "present_soy_acreage = np.array([40, 70, 0])\n",
    "present_rice_acreage = np.array([60, 30, 0])\n",
    "\n",
    "present_soy_calories = present_soy_yields*soy_calories_per_bushel\n",
    "present_rice_calories = present_rice_yields*rice_calories_per_bushel\n",
    "\n",
    "present_total_planted_acreage = present_soy_acreage + present_rice_acreage"
   ]
  },
  {
   "cell_type": "code",
   "execution_count": 5,
   "metadata": {},
   "outputs": [],
   "source": [
    "# future data\n",
    "future_soy_yield_shocks = np.array([0.5, 0.8, 1])\n",
    "future_rice_yield_shocks = np.array([0.9, 0.6, 1])\n",
    "\n",
    "future_soy_yields = present_soy_yields * future_soy_yield_shocks\n",
    "future_rice_yields = present_rice_yields * future_rice_yield_shocks\n",
    "\n",
    "future_soy_acreage = present_soy_acreage\n",
    "future_rice_acreage = present_rice_acreage\n",
    "\n",
    "future_soy_calories = future_soy_yields*soy_calories_per_bushel\n",
    "future_rice_calories = future_rice_yields*rice_calories_per_bushel"
   ]
  },
  {
   "cell_type": "markdown",
   "metadata": {},
   "source": [
    "# 2. Set up functions for calculating moments"
   ]
  },
  {
   "cell_type": "code",
   "execution_count": 6,
   "metadata": {},
   "outputs": [],
   "source": [
    "soy_args = [present_soy_acreage, present_soy_calories]\n",
    "rice_args = [present_rice_acreage, present_rice_calories]\n",
    "args = [soy_args, rice_args]\n",
    "calories = [present_soy_calories, present_rice_calories]"
   ]
  },
  {
   "cell_type": "code",
   "execution_count": 7,
   "metadata": {},
   "outputs": [],
   "source": [
    "def calculate_gamma(args):\n",
    "    '''\n",
    "    Docstring here!\n",
    "    Parameters:\n",
    "    -----------\n",
    "    args: list\n",
    "        A list with one element per crop. Each element of the list should be another list\n",
    "        of length 2, where the first element is an array of the acres planted of that crop\n",
    "        and the second is an array of the yields in calories per bushel of that crop.\n",
    "    '''\n",
    "    # calculate the number of calories produced in each plot for each crop,\n",
    "    # the sum them all up\n",
    "    total_cal = sum([sum(acres*cals) for acres, cals in args])\n",
    "\n",
    "    # calculate potential calories by picking the max calorie yield on each\n",
    "    # plot and applying it to all the acres planted for that crop\n",
    "    max_cal = np.amax(np.stack([args[i][1] for i in range(len(args))]), axis=0)\n",
    "    total_acres = np.sum(np.stack([args[i][0] for i in range(len(args))]), axis=0)\n",
    "    potential_cal = sum(max_cal * total_acres)\n",
    "\n",
    "    return total_cal / potential_cal"
   ]
  },
  {
   "cell_type": "code",
   "execution_count": 8,
   "metadata": {},
   "outputs": [],
   "source": [
    "def analyze_empty_acreage(total_acres, acres_planted, yields, crop_acreage):\n",
    "    '''\n",
    "    Docstring here!\n",
    "    '''\n",
    "    empty_acres = total_acres - acres_planted\n",
    "\n",
    "    assert(all(empty_acres >= 0))\n",
    "\n",
    "    empty_max_yield = yields[empty_acres > 0].max()\n",
    "    empty_max_id = np.argwhere(\n",
    "        (empty_acres > 0) & (yields == empty_max_yield)).item()\n",
    "\n",
    "    used_min_yield = yields[acres_planted > 0].min()\n",
    "    used_min_id = np.argwhere(\n",
    "        (crop_acreage > 0) & (yields == used_min_yield))\n",
    "    \n",
    "    if used_min_id.size == 0:\n",
    "        used_min_id = np.nan\n",
    "    else:\n",
    "        used_min_id = used_min_id.item()\n",
    "\n",
    "    return [empty_max_id, used_min_id]"
   ]
  },
  {
   "cell_type": "code",
   "execution_count": 9,
   "metadata": {},
   "outputs": [],
   "source": [
    "def calculate_phi(total_acres, acres_planted, yields, crop_acreage):\n",
    "    '''\n",
    "    docstring here!\n",
    "    '''\n",
    "    # calculate actual yield\n",
    "    actual_yield = (crop_acreage*yields).sum()\n",
    "\n",
    "    # calculate potential yield\n",
    "    empty_max_id, used_min_id = (\n",
    "        analyze_empty_acreage(total_acres, acres_planted, yields, crop_acreage))\n",
    "    \n",
    "    crop_acreage = crop_acreage.copy()\n",
    "    acres_planted = acres_planted.copy()\n",
    "    \n",
    "    while (not np.isnan(used_min_id)) and yields[empty_max_id] > yields[used_min_id]:\n",
    "        for a in crop_acreage, acres_planted:\n",
    "            a[empty_max_id] += 1\n",
    "            a[used_min_id] -= 1\n",
    "\n",
    "        empty_max_id, used_min_id = (\n",
    "            analyze_empty_acreage(total_acres, acres_planted, yields, crop_acreage))\n",
    "    \n",
    "    potential_yield = (crop_acreage*yields).sum()\n",
    "\n",
    "    return actual_yield/potential_yield"
   ]
  },
  {
   "cell_type": "markdown",
   "metadata": {},
   "source": [
    "# 3. Write functions that incorporate a climate shock and match moments"
   ]
  },
  {
   "cell_type": "code",
   "execution_count": 10,
   "metadata": {},
   "outputs": [],
   "source": [
    "present_both_args = [total_acres, present_total_planted_acreage]\n",
    "present_soy_args = present_both_args + [present_soy_yields, present_soy_acreage, present_soy_calories]\n",
    "present_rice_args = present_both_args + [present_rice_yields, present_rice_acreage, present_rice_calories]\n",
    "present_args = [present_soy_args, present_rice_args]\n",
    "\n",
    "future_both_args = [total_acres, present_total_planted_acreage]\n",
    "future_soy_args = future_both_args + [future_soy_yields, future_soy_acreage, future_soy_calories]\n",
    "future_rice_args = future_both_args + [future_rice_yields, future_rice_acreage, future_rice_calories]\n",
    "future_args = [future_soy_args, future_rice_args]"
   ]
  },
  {
   "cell_type": "code",
   "execution_count": 11,
   "metadata": {},
   "outputs": [],
   "source": [
    "def calculate_distances(present_args, future_args):\n",
    "    '''\n",
    "    docstring here!\n",
    "    '''\n",
    "    present_moments = (\n",
    "       [calculate_phi(a[0], a[1], a[2], a[3]) for a in present_args] +  \n",
    "       [calculate_gamma([present_args[i][3:] for i in range(len(present_args))])]\n",
    "    )\n",
    "    \n",
    "    future_moments = (\n",
    "       [calculate_phi(a[0], a[1], a[2], a[3]) for a in future_args] +  \n",
    "       [calculate_gamma([future_args[i][3:] for i in range(len(future_args))])]\n",
    "    )\n",
    "\n",
    "    distances = [p - f for p, f in zip(present_moments, future_moments)]\n",
    "\n",
    "    return distances"
   ]
  },
  {
   "cell_type": "code",
   "execution_count": 12,
   "metadata": {},
   "outputs": [],
   "source": [
    "def match_moments(present_args, future_args):\n",
    "    '''\n",
    "    docstring here!\n",
    "    '''\n",
    "    distances = calculate_distances(present_args, future_args)\n",
    "    \n",
    "    future_args = copy.deepcopy(future_args)\n",
    "    present_args = copy.deepcopy(present_args)\n",
    "\n",
    "    while any(d > 0 for d in distances):\n",
    "        reallocation_info = [analyze_empty_acreage(a[0], a[1], a[2], a[3]) for a in future_args]\n",
    "        # phi iteration happens first\n",
    "        # note this relies on the fact that calculate_distances returns gamma last.\n",
    "        if any(d > 0 for d in distances[:-1]):\n",
    "            for i in range(len(distances)-1):\n",
    "                if distances[i] > 0:\n",
    "                    for a in [future_args[i][1], future_args[i][3]]:\n",
    "                        a[reallocation_info[i][0]] += 1 # empty_max_id\n",
    "                        a[reallocation_info[i][1]] -= 1 # used_min_id\n",
    "\n",
    "        # now iterate over gamma\n",
    "        if any(d > 0 for d in distances[-1:]):\n",
    "            # switch an acre between the lowest-yielding and highest-yielding crop in the location where that\n",
    "            # gap is largest\n",
    "            # NOTE -- still need to test the below. works outside of function context above.\n",
    "            \n",
    "            # create list of crop level yields from args\n",
    "            crop_yield_list = [future_args[i][2] for i in range(len(future_args))]\n",
    "\n",
    "            diffs = []\n",
    "            for i in range(len(crop_yield_list)):\n",
    "                j_list = crop_yield_list.copy()\n",
    "                del j_list[i]\n",
    "                i_val = crop_yield_list[i]\n",
    "                i_list = [i_val, i_val]\n",
    "                if range(len(j_list) > 2):\n",
    "                    for i in range(len(j_list)):\n",
    "                        i_list = [i_val, i_list]\n",
    "                diffs += [(i - j).tolist() for i, j in zip(i_list, j_list)]\n",
    "\n",
    "            # flatten the list of diffs and take absolute values\n",
    "            diffs = [i for diff in diffs for i in diff]\n",
    "            # note this is picking the first one--not sure if this is desirable\n",
    "            max_diff_id = diffs.index(max(diffs))\n",
    "            min_diff_id = diffs.index(min(diffs))\n",
    "\n",
    "            max_crop_id, min_crop_id = [i//(len(crop_yield_list)*(len(crop_yield_list) - 1)) for i in [max_diff_id, min_diff_id]]\n",
    "            max_plot_id, min_plot_id = [i%3 for i in [max_diff_id, min_diff_id]]\n",
    "            assert min_plot_id == max_plot_id\n",
    "\n",
    "            future_args[min_crop_id][3][min_plot_id] -= 1\n",
    "            future_args[max_crop_id][3][max_plot_id] += 1\n",
    "                           \n",
    "        distances = calculate_distances(present_args, future_args)\n",
    "    return future_args"
   ]
  },
  {
   "cell_type": "code",
   "execution_count": 13,
   "metadata": {
    "scrolled": false
   },
   "outputs": [
    {
     "ename": "NameError",
     "evalue": "name 'test_list' is not defined",
     "output_type": "error",
     "traceback": [
      "\u001b[0;31m---------------------------------------------------------------------------\u001b[0m",
      "\u001b[0;31mNameError\u001b[0m                                 Traceback (most recent call last)",
      "\u001b[0;32m<ipython-input-13-a42c0dc55172>\u001b[0m in \u001b[0;36m<module>\u001b[0;34m\u001b[0m\n\u001b[0;32m----> 1\u001b[0;31m \u001b[0mfuture_args_reallocated\u001b[0m \u001b[0;34m=\u001b[0m \u001b[0mmatch_moments\u001b[0m\u001b[0;34m(\u001b[0m\u001b[0mpresent_args\u001b[0m\u001b[0;34m,\u001b[0m \u001b[0mfuture_args\u001b[0m\u001b[0;34m)\u001b[0m\u001b[0;34m\u001b[0m\u001b[0;34m\u001b[0m\u001b[0m\n\u001b[0m",
      "\u001b[0;32m<ipython-input-12-cfd3b509be42>\u001b[0m in \u001b[0;36mmatch_moments\u001b[0;34m(present_args, future_args)\u001b[0m\n\u001b[1;32m     45\u001b[0m             \u001b[0mmin_diff_id\u001b[0m \u001b[0;34m=\u001b[0m \u001b[0mdiffs\u001b[0m\u001b[0;34m.\u001b[0m\u001b[0mindex\u001b[0m\u001b[0;34m(\u001b[0m\u001b[0mmin\u001b[0m\u001b[0;34m(\u001b[0m\u001b[0mdiffs\u001b[0m\u001b[0;34m)\u001b[0m\u001b[0;34m)\u001b[0m\u001b[0;34m\u001b[0m\u001b[0;34m\u001b[0m\u001b[0m\n\u001b[1;32m     46\u001b[0m \u001b[0;34m\u001b[0m\u001b[0m\n\u001b[0;32m---> 47\u001b[0;31m             \u001b[0mmax_crop_id\u001b[0m\u001b[0;34m,\u001b[0m \u001b[0mmin_crop_id\u001b[0m \u001b[0;34m=\u001b[0m \u001b[0;34m[\u001b[0m\u001b[0mi\u001b[0m\u001b[0;34m//\u001b[0m\u001b[0;34m(\u001b[0m\u001b[0mlen\u001b[0m\u001b[0;34m(\u001b[0m\u001b[0mtest_list\u001b[0m\u001b[0;34m)\u001b[0m\u001b[0;34m*\u001b[0m\u001b[0;34m(\u001b[0m\u001b[0mlen\u001b[0m\u001b[0;34m(\u001b[0m\u001b[0mtest_list\u001b[0m\u001b[0;34m)\u001b[0m \u001b[0;34m-\u001b[0m \u001b[0;36m1\u001b[0m\u001b[0;34m)\u001b[0m\u001b[0;34m)\u001b[0m \u001b[0;32mfor\u001b[0m \u001b[0mi\u001b[0m \u001b[0;32min\u001b[0m \u001b[0;34m[\u001b[0m\u001b[0mmax_diff_id\u001b[0m\u001b[0;34m,\u001b[0m \u001b[0mmin_diff_id\u001b[0m\u001b[0;34m]\u001b[0m\u001b[0;34m]\u001b[0m\u001b[0;34m\u001b[0m\u001b[0;34m\u001b[0m\u001b[0m\n\u001b[0m\u001b[1;32m     48\u001b[0m             \u001b[0mmax_plot_id\u001b[0m\u001b[0;34m,\u001b[0m \u001b[0mmin_plot_id\u001b[0m \u001b[0;34m=\u001b[0m \u001b[0;34m[\u001b[0m\u001b[0mi\u001b[0m\u001b[0;34m%\u001b[0m\u001b[0;36m3\u001b[0m \u001b[0;32mfor\u001b[0m \u001b[0mi\u001b[0m \u001b[0;32min\u001b[0m \u001b[0;34m[\u001b[0m\u001b[0mmax_diff_id\u001b[0m\u001b[0;34m,\u001b[0m \u001b[0mmin_diff_id\u001b[0m\u001b[0;34m]\u001b[0m\u001b[0;34m]\u001b[0m\u001b[0;34m\u001b[0m\u001b[0;34m\u001b[0m\u001b[0m\n\u001b[1;32m     49\u001b[0m             \u001b[0;32massert\u001b[0m \u001b[0mmin_plot_id\u001b[0m \u001b[0;34m==\u001b[0m \u001b[0mmax_plot_id\u001b[0m\u001b[0;34m\u001b[0m\u001b[0;34m\u001b[0m\u001b[0m\n",
      "\u001b[0;32m<ipython-input-12-cfd3b509be42>\u001b[0m in \u001b[0;36m<listcomp>\u001b[0;34m(.0)\u001b[0m\n\u001b[1;32m     45\u001b[0m             \u001b[0mmin_diff_id\u001b[0m \u001b[0;34m=\u001b[0m \u001b[0mdiffs\u001b[0m\u001b[0;34m.\u001b[0m\u001b[0mindex\u001b[0m\u001b[0;34m(\u001b[0m\u001b[0mmin\u001b[0m\u001b[0;34m(\u001b[0m\u001b[0mdiffs\u001b[0m\u001b[0;34m)\u001b[0m\u001b[0;34m)\u001b[0m\u001b[0;34m\u001b[0m\u001b[0;34m\u001b[0m\u001b[0m\n\u001b[1;32m     46\u001b[0m \u001b[0;34m\u001b[0m\u001b[0m\n\u001b[0;32m---> 47\u001b[0;31m             \u001b[0mmax_crop_id\u001b[0m\u001b[0;34m,\u001b[0m \u001b[0mmin_crop_id\u001b[0m \u001b[0;34m=\u001b[0m \u001b[0;34m[\u001b[0m\u001b[0mi\u001b[0m\u001b[0;34m//\u001b[0m\u001b[0;34m(\u001b[0m\u001b[0mlen\u001b[0m\u001b[0;34m(\u001b[0m\u001b[0mtest_list\u001b[0m\u001b[0;34m)\u001b[0m\u001b[0;34m*\u001b[0m\u001b[0;34m(\u001b[0m\u001b[0mlen\u001b[0m\u001b[0;34m(\u001b[0m\u001b[0mtest_list\u001b[0m\u001b[0;34m)\u001b[0m \u001b[0;34m-\u001b[0m \u001b[0;36m1\u001b[0m\u001b[0;34m)\u001b[0m\u001b[0;34m)\u001b[0m \u001b[0;32mfor\u001b[0m \u001b[0mi\u001b[0m \u001b[0;32min\u001b[0m \u001b[0;34m[\u001b[0m\u001b[0mmax_diff_id\u001b[0m\u001b[0;34m,\u001b[0m \u001b[0mmin_diff_id\u001b[0m\u001b[0;34m]\u001b[0m\u001b[0;34m]\u001b[0m\u001b[0;34m\u001b[0m\u001b[0;34m\u001b[0m\u001b[0m\n\u001b[0m\u001b[1;32m     48\u001b[0m             \u001b[0mmax_plot_id\u001b[0m\u001b[0;34m,\u001b[0m \u001b[0mmin_plot_id\u001b[0m \u001b[0;34m=\u001b[0m \u001b[0;34m[\u001b[0m\u001b[0mi\u001b[0m\u001b[0;34m%\u001b[0m\u001b[0;36m3\u001b[0m \u001b[0;32mfor\u001b[0m \u001b[0mi\u001b[0m \u001b[0;32min\u001b[0m \u001b[0;34m[\u001b[0m\u001b[0mmax_diff_id\u001b[0m\u001b[0;34m,\u001b[0m \u001b[0mmin_diff_id\u001b[0m\u001b[0;34m]\u001b[0m\u001b[0;34m]\u001b[0m\u001b[0;34m\u001b[0m\u001b[0;34m\u001b[0m\u001b[0m\n\u001b[1;32m     49\u001b[0m             \u001b[0;32massert\u001b[0m \u001b[0mmin_plot_id\u001b[0m \u001b[0;34m==\u001b[0m \u001b[0mmax_plot_id\u001b[0m\u001b[0;34m\u001b[0m\u001b[0;34m\u001b[0m\u001b[0m\n",
      "\u001b[0;31mNameError\u001b[0m: name 'test_list' is not defined"
     ]
    }
   ],
   "source": [
    "future_args_reallocated = match_moments(present_args, future_args)"
   ]
  },
  {
   "cell_type": "markdown",
   "metadata": {},
   "source": [
    "# 4. Shift equilibrium and calculate welfare changes"
   ]
  },
  {
   "cell_type": "code",
   "execution_count": null,
   "metadata": {},
   "outputs": [],
   "source": [
    "demand_elasticity=-0.1\n",
    "supply_elasticity=1\n",
    "ag_GDP=1000"
   ]
  },
  {
   "cell_type": "code",
   "execution_count": null,
   "metadata": {},
   "outputs": [],
   "source": [
    "def pchange(a, b):\n",
    "    '''calculate the percent change when you move from a to b.'''\n",
    "    return (b - a)/a"
   ]
  },
  {
   "cell_type": "code",
   "execution_count": null,
   "metadata": {},
   "outputs": [],
   "source": [
    "present_total_cal, future_total_cal, future_total_cal_reallocated = [\n",
    "    sum(\n",
    "        sum(args[i][3] * args[i][4]) for i in range(len(args))) \n",
    "    for args in [present_args, future_args, future_args_reallocated]\n",
    "]\n",
    "\n",
    "# calculate damages (in calories) with and without reallocation\n",
    "calorie_damages_no_reallocation = present_total_cal - future_total_cal\n",
    "calorie_damages_with_reallocation = present_total_cal - future_total_cal_reallocated\n",
    "\n",
    "# Q0: The inital quantity\n",
    "# Q0 = present_total_cal\n",
    "# Q1: The quantity considering damages but not price change\n",
    "# Q1 = future_total_cal_reallocated\n",
    "# Q2: The quantity considering damagaes and price change\n",
    "Q2 = (\n",
    "    (supply_elasticity - demand_elasticity)/\n",
    "    ((supply_elasticity/Q0) - (demand_elasticity/Q1))\n",
    ")\n",
    "\n",
    "# test values to compare against Ishan's\n",
    "Q0 = 5062500\n",
    "Q1 = 4597125\n",
    "Q2 = (\n",
    "    (supply_elasticity - demand_elasticity)/\n",
    "    ((supply_elasticity/Q0) - (demand_elasticity/Q1))\n",
    ")\n",
    "\n",
    "# percent changes\n",
    "Q0_Q1 = (Q1 - Q0)/Q0\n",
    "Q1_Q2 = (Q2 - Q1)/Q1\n",
    "Q0_Q2 = (Q2 - Q0)/Q0\n",
    "\n",
    "# percent change from P0 to P1\n",
    "P0_P1 = (Q2/Q0 - 1)/demand_elasticity"
   ]
  },
  {
   "cell_type": "code",
   "execution_count": null,
   "metadata": {},
   "outputs": [],
   "source": [
    "# areas to calculate: B, C, D, F, G, H\n",
    "C = 0.5*((Q2 - Q1)/Q0)*P0_P1*ag_GDP\n",
    "D = 0.5*-(Q2/Q0 - 1)*P0_P1*ag_GDP\n",
    "F = (Q1/Q0)*(-(Q1/Q0 - 1)/supply_elasticity)*ag_GDP\n",
    "\n",
    "G = (0.5 * \n",
    "     ((Q2 - Q1)/Q0)* # height\n",
    "     (-(Q1/Q0 - 1)/supply_elasticity + # base 1\n",
    "     -(Q2/Q0 - 1)/supply_elasticity) * # base 2\n",
    "    ag_GDP)\n",
    "H = 0.5*(1 - Q2/Q0)*(-(Q2/Q0 - 1)/supply_elasticity)*ag_GDP\n",
    "\n",
    "B = P0_P1*(Q2/Q0)*ag_GDP - C\n",
    "\n",
    "print(B, C, D, F, G, H, sep='\\n')"
   ]
  },
  {
   "cell_type": "code",
   "execution_count": null,
   "metadata": {},
   "outputs": [],
   "source": [
    "# calculate consumer and producer surplus changes\n",
    "delta_CS = -B - C - D\n",
    "delta_PS = B - F - G - H\n",
    "\n",
    "print(delta_CS, delta_PS, sep='\\n')"
   ]
  },
  {
   "cell_type": "code",
   "execution_count": null,
   "metadata": {},
   "outputs": [],
   "source": [
    "# calculate areas\n",
    "D = 0.5*-Q0_Q2*-dP"
   ]
  },
  {
   "cell_type": "code",
   "execution_count": null,
   "metadata": {},
   "outputs": [],
   "source": [
    "D"
   ]
  },
  {
   "cell_type": "code",
   "execution_count": null,
   "metadata": {},
   "outputs": [],
   "source": [
    "0.5*(Q0 - Q2)*(P1 - P0)"
   ]
  },
  {
   "cell_type": "code",
   "execution_count": null,
   "metadata": {},
   "outputs": [],
   "source": [
    "Q0_Q2"
   ]
  },
  {
   "cell_type": "code",
   "execution_count": null,
   "metadata": {},
   "outputs": [],
   "source": [
    "def calculate_surplus_changes(demand_elasticity=-0.1, supply_elasticity=1):\n",
    "    return"
   ]
  },
  {
   "cell_type": "markdown",
   "metadata": {},
   "source": [
    "# Benchmark"
   ]
  },
  {
   "cell_type": "code",
   "execution_count": null,
   "metadata": {
    "scrolled": true
   },
   "outputs": [],
   "source": [
    "timeit.timeit(\"lambda: calculate_phi(present_rice_yields, present_rice_acreage, present_total_planted_acreage)\")"
   ]
  },
  {
   "cell_type": "code",
   "execution_count": null,
   "metadata": {},
   "outputs": [],
   "source": [
    "%timeit -n 100000 lambda: calculate_phi(present_rice_yields, present_rice_acreage, present_total_planted_acreage)"
   ]
  },
  {
   "cell_type": "code",
   "execution_count": null,
   "metadata": {
    "scrolled": true
   },
   "outputs": [],
   "source": [
    "%timeit -n 100000 lambda: match_moments(present_args, future_args)"
   ]
  }
 ],
 "metadata": {
  "kernelspec": {
   "display_name": "Python 3",
   "language": "python",
   "name": "python3"
  },
  "language_info": {
   "codemirror_mode": {
    "name": "ipython",
    "version": 3
   },
   "file_extension": ".py",
   "mimetype": "text/x-python",
   "name": "python",
   "nbconvert_exporter": "python",
   "pygments_lexer": "ipython3",
   "version": "3.7.6"
  }
 },
 "nbformat": 4,
 "nbformat_minor": 4
}
