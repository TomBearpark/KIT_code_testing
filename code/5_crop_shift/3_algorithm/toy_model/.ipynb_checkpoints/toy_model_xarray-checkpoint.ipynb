{
 "cells": [
  {
   "cell_type": "markdown",
   "metadata": {},
   "source": [
    "# Crop reallocation algorigthm: toy model (xarray version)"
   ]
  },
  {
   "cell_type": "markdown",
   "metadata": {},
   "source": [
    "This notebook takes the code in toy_model.ipynb and translates it to xarray, in an effort to make it faster."
   ]
  },
  {
   "cell_type": "code",
   "execution_count": 10,
   "metadata": {},
   "outputs": [],
   "source": [
    "import numpy as np\n",
    "import pandas as pd\n",
    "import xarray as xr\n",
    "import timeit"
   ]
  },
  {
   "cell_type": "markdown",
   "metadata": {},
   "source": [
    "# 1. Set up parameters"
   ]
  },
  {
   "cell_type": "markdown",
   "metadata": {},
   "source": [
    "Use the DataFrames defined in toy_model, then convet them to xarray objects"
   ]
  },
  {
   "cell_type": "code",
   "execution_count": 395,
   "metadata": {},
   "outputs": [],
   "source": [
    "# define array dims\n",
    "crops = ['soy', 'rice']\n",
    "geo0 = [1]\n",
    "geo1 = [1, 2, 3]"
   ]
  },
  {
   "cell_type": "code",
   "execution_count": 396,
   "metadata": {},
   "outputs": [],
   "source": [
    "# present yields\n",
    "yields = xr.DataArray(\n",
    "    data = [[10, 20, 15],\n",
    "           [20, 10, 15]],\n",
    "    coords = [crops, geo1],\n",
    "    dims = ['crop', 'geo1_id']\n",
    ")\n",
    "\n",
    "calories = xr.DataArray(\n",
    "    data = [25, 15],\n",
    "    coords = [crops],\n",
    "    dims = ['crop']\n",
    ")\n",
    "\n",
    "acres_planted = xr.DataArray(\n",
    "    data = [[40, 70, 0],\n",
    "           [60, 30, 0]],\n",
    "    coords = [crops, geo1],\n",
    "    dims = ['crop', 'geo1_id']\n",
    ")\n",
    "\n",
    "total_acres = xr.DataArray(\n",
    "    data = [[100, 100, 100],\n",
    "           [100, 100, 100]],\n",
    "    coords = [crops, geo1],\n",
    "    dims = ['crop', 'geo1_id']\n",
    ")"
   ]
  },
  {
   "cell_type": "code",
   "execution_count": 397,
   "metadata": {},
   "outputs": [],
   "source": [
    "present_yields = xr.Dataset({\n",
    "    'yields': yields,\n",
    "    'calories': calories,\n",
    "    'acres_planted': acres_planted,\n",
    "    'total_acres': total_acres\n",
    "})\n",
    "\n",
    "present_yields['calorie_yield'] = present_yields.calories * present_yields.yields"
   ]
  },
  {
   "cell_type": "code",
   "execution_count": 398,
   "metadata": {},
   "outputs": [],
   "source": [
    "# Make xr.Dataset incorporating Climate shocks\n",
    "\n",
    "# xarray objects for yield shocks\n",
    "yield_shocks = xr.DataArray(\n",
    "    data = [[0.5, 0.8, 1],\n",
    "           [0.9, 0.6, 1]],\n",
    "    coords = [crops, geo1],\n",
    "    dims = ['crop', 'geo1_id']\n",
    ")\n",
    "\n",
    "future_yields = yield_shocks * yields\n",
    "\n",
    "future_yields = xr.Dataset({\n",
    "    'yields': future_yields,\n",
    "    'calories': calories,\n",
    "    'acres_planted': acres_planted,\n",
    "    'total_acres': total_acres\n",
    "})\n",
    "\n",
    "future_yields['calorie_yield'] = future_yields.calories * future_yields.yields"
   ]
  },
  {
   "cell_type": "markdown",
   "metadata": {},
   "source": [
    "# 2. Set up function for calculating moments"
   ]
  },
  {
   "cell_type": "code",
   "execution_count": 140,
   "metadata": {},
   "outputs": [],
   "source": [
    "def calculate_gamma(ds):\n",
    "    '''\n",
    "    Calculate 'gamma', the ratio of total calories produced to possible \n",
    "    calories produced.\n",
    "    '''\n",
    "    \n",
    "    total_cal = (ds['calorie_yield']*ds['acres_planted']).sum()\n",
    "\n",
    "    potential_cal = (ds[['geo1_id', 'calorie_yield']]\n",
    "            .groupby('geo1_id')\n",
    "            .max()\n",
    "        )\n",
    "\n",
    "\n",
    "    total_acres = (ds[['geo1_id', 'acres_planted']]\n",
    "                   .groupby('geo1_id')\n",
    "                   .sum()\n",
    "                  )\n",
    "\n",
    "    total_cal_potential = sum(total_acres['acres_planted']*potential_cal['calorie_yield'])\n",
    "\n",
    "    return total_cal / total_cal_potential "
   ]
  },
  {
   "cell_type": "code",
   "execution_count": 279,
   "metadata": {},
   "outputs": [],
   "source": [
    "def analyze_empty_acreage(ds, crop):\n",
    "    '''\n",
    "    Returns the yield and plot id for the plot with the highest yield that currently has \n",
    "    empty space, as well as the yield and plot id for the plot with the lowest yield that \n",
    "    is currently occupied.\n",
    "    These are the conditions that will be calculated in each iteration of the loop in\n",
    "    `calculate_phi`\n",
    "    \n",
    "   Parameters:\n",
    "    -----------\n",
    "    '''\n",
    "        \n",
    "    acres_planted = ds.acres_planted.groupby('geo1_id').sum()\n",
    "    total_acres = ds.total_acres.groupby('geo1_id').mean()\n",
    "\n",
    "    empty_acres = total_acres - acres_planted\n",
    "\n",
    "    assert all(empty_acres >= 0)\n",
    "\n",
    "    empty_max_yield = (ds.where((empty_acres > 0) & (ds.crop == crop))\n",
    "                       .yields.max())\n",
    "\n",
    "    empty_max_id = ds.where(\n",
    "        (empty_acres > 0) & (ds.yields == empty_max_yield) & (ds.crop == crop),\n",
    "        drop=True)\n",
    "\n",
    "    used_min_yield = (ds.where((ds.acres_planted) > 0 & (ds.crop == crop))\n",
    "                     .yields.min())\n",
    "\n",
    "    used_min_id = ds.where(\n",
    "        (ds.acres_planted > 0) & (ds.yields == used_min_yield) & (ds.crop == crop),\n",
    "        drop = True)\n",
    "    return [empty_max_id, used_min_id]"
   ]
  },
  {
   "cell_type": "code",
   "execution_count": 280,
   "metadata": {},
   "outputs": [],
   "source": [
    "def reallocate_crops(ds, crop, empty_max_id, used_min_id):\n",
    "    '''\n",
    "    A loop to reallocate crop area, moving one acre at a time from the \n",
    "    lowest-yielding parcel\n",
    "    of the crop to the highest-yielding unoccupied parcel\n",
    "    \n",
    "    Parameters:\n",
    "    -----------\n",
    "    '''\n",
    "    # add one acre to the highest-yielding plot that is currently empty\n",
    "    empty_max_id['acres_planted'] += 1\n",
    "    ds = empty_max_id.combine_first(ds)\n",
    "\n",
    "    # remove one acrea to the lowest-yielding plot that is currently in use\n",
    "    used_min_id['acres_planted'] -= 1\n",
    "    ds = used_min_id.combine_first(ds)\n",
    "    \n",
    "    return ds"
   ]
  },
  {
   "cell_type": "code",
   "execution_count": 350,
   "metadata": {},
   "outputs": [],
   "source": [
    "def calculate_phi(ds, crop):\n",
    "    '''\n",
    "    Calculate 'phi', the ratio of actual yields to the maximum possible\n",
    "    yield that would be realized in a perfectly frictionless scenario\n",
    "    with optimal acreage placement in a country. \n",
    "    \n",
    "    Parameters:\n",
    "    -----------\n",
    "    '''\n",
    "    # calculate actual yield\n",
    "    actual_yield = (ds.where(ds.crop == crop).yields * \n",
    "                    ds.where(ds.crop == crop).acres_planted).sum()\n",
    "\n",
    "    # calculate potential yield\n",
    "    # get initial conditions\n",
    "    empty_max_id, used_min_id = analyze_empty_acreage(ds, crop)\n",
    "\n",
    "    while any(empty_max_id.yields.values > used_min_id.yields.values):\n",
    "        ds = reallocate_crops(ds, crop, empty_max_id, used_min_id)\n",
    "\n",
    "        empty_max_id, used_min_id = analyze_empty_acreage(ds, crop)\n",
    "        \n",
    "    potential_yield = (ds.where(ds.crop == crop).yields * \n",
    "                       ds.where(ds.crop == crop).acres_planted).sum()\n",
    "    return actual_yield / potential_yield"
   ]
  },
  {
   "cell_type": "code",
   "execution_count": 357,
   "metadata": {},
   "outputs": [],
   "source": [
    "from numba import jit\n",
    "@jit\n",
    "def calculate_phi_jit(ds, crop):\n",
    "    '''\n",
    "    Calculate_phi compiled by numba \n",
    "    \n",
    "    Parameters:\n",
    "    -----------\n",
    "    '''\n",
    "    # calculate actual yield\n",
    "    actual_yield = (ds.where(ds.crop == crop).yields * \n",
    "                    ds.where(ds.crop == crop).acres_planted).sum()\n",
    "\n",
    "    # calculate potential yield\n",
    "    # get initial conditions\n",
    "    empty_max_id, used_min_id = analyze_empty_acreage(ds, crop)\n",
    "\n",
    "    while any(empty_max_id.yields.values > used_min_id.yields.values):\n",
    "        ds = reallocate_crops(ds, crop, empty_max_id, used_min_id)\n",
    "\n",
    "        empty_max_id, used_min_id = analyze_empty_acreage(ds, crop)\n",
    "        \n",
    "    potential_yield = (ds.where(ds.crop == crop).yields * \n",
    "                       ds.where(ds.crop == crop).acres_planted).sum()\n",
    "    return actual_yield / potential_yield"
   ]
  },
  {
   "cell_type": "markdown",
   "metadata": {},
   "source": [
    "# 3. Write functions that incorporate a climate shock and match moments"
   ]
  },
  {
   "cell_type": "code",
   "execution_count": 405,
   "metadata": {},
   "outputs": [],
   "source": [
    "def calculate_distances(present, future, crops):\n",
    "    '''\n",
    "    Docstring here!\n",
    "    '''\n",
    "    present_moments = [calculate_gamma(present).values] + [calculate_phi(present, c).values for c in crops]\n",
    "    future_moments = [calculate_gamma(future).values] + [calculate_phi(future, c).values for c in crops]\n",
    "\n",
    "    print(present_moments, future_moments, '\\n')\n",
    "    \n",
    "    distances = [p - f for p, f in zip(present_moments, future_moments)]\n",
    "    return distances"
   ]
  },
  {
   "cell_type": "code",
   "execution_count": 406,
   "metadata": {
    "scrolled": false
   },
   "outputs": [
    {
     "name": "stdout",
     "output_type": "stream",
     "text": [
      "[array(0.84375), array(0.9), array(0.90909091)] [array(0.77462687), array(0.76744186), array(1.)] \n",
      "\n"
     ]
    },
    {
     "data": {
      "text/plain": [
       "[0.06912313432835826, 0.1325581395348837, -0.09090909090909094]"
      ]
     },
     "execution_count": 406,
     "metadata": {},
     "output_type": "execute_result"
    }
   ],
   "source": [
    "# left off here--3/30/20. Values of calculate_distances seem weird\n",
    "\n",
    "calculate_distances(present_yields, future_yields, ['soy', 'rice'])"
   ]
  },
  {
   "cell_type": "markdown",
   "metadata": {},
   "source": [
    "# Benchmark"
   ]
  },
  {
   "cell_type": "code",
   "execution_count": 75,
   "metadata": {},
   "outputs": [],
   "source": [
    "import timeit"
   ]
  },
  {
   "cell_type": "code",
   "execution_count": 151,
   "metadata": {},
   "outputs": [
    {
     "data": {
      "text/plain": [
       "0.0006795500012231059"
      ]
     },
     "execution_count": 151,
     "metadata": {},
     "output_type": "execute_result"
    }
   ],
   "source": [
    "# calculate_gamma\n",
    "timeit.timeit(\"lambda: calculate_gamma(present_yields)\", number=10000)"
   ]
  },
  {
   "cell_type": "code",
   "execution_count": 203,
   "metadata": {},
   "outputs": [
    {
     "data": {
      "text/plain": [
       "0.06293064999954368"
      ]
     },
     "execution_count": 203,
     "metadata": {},
     "output_type": "execute_result"
    }
   ],
   "source": [
    "# analyze_empty_acreage\n",
    "timeit.timeit(\"lambda: analyze_empty_acreage(present_yields, 'soy')\")"
   ]
  },
  {
   "cell_type": "code",
   "execution_count": 288,
   "metadata": {},
   "outputs": [
    {
     "data": {
      "text/plain": [
       "0.001194758999190526"
      ]
     },
     "execution_count": 288,
     "metadata": {},
     "output_type": "execute_result"
    }
   ],
   "source": [
    "# reallocate_crops\n",
    "empty_max_id, used_min_id = analyze_empty_acreage(present_yields, 'soy')\n",
    "timeit.timeit(\"lambda: reallocate_crops(present_yields, 'soy', empty_max_id, used_min_id)\", number=10000)"
   ]
  },
  {
   "cell_type": "code",
   "execution_count": 321,
   "metadata": {},
   "outputs": [
    {
     "name": "stderr",
     "output_type": "stream",
     "text": [
      "/Users/simongreenhill/miniconda3/envs/risingverse/lib/python3.7/site-packages/ipykernel_launcher.py:18: DeprecationWarning: The truth value of an empty array is ambiguous. Returning False, but in future this will result in an error. Use `array.size > 0` to check that an array is not empty.\n"
     ]
    },
    {
     "data": {
      "text/plain": [
       "<xarray.DataArray ()>\n",
       "array(0.956522)"
      ]
     },
     "execution_count": 321,
     "metadata": {},
     "output_type": "execute_result"
    }
   ],
   "source": [
    "calculate_phi(present_yields, 'rice')"
   ]
  },
  {
   "cell_type": "code",
   "execution_count": 364,
   "metadata": {
    "scrolled": true
   },
   "outputs": [
    {
     "data": {
      "text/plain": [
       "0.0627708789997996"
      ]
     },
     "execution_count": 364,
     "metadata": {},
     "output_type": "execute_result"
    }
   ],
   "source": [
    "# calculate_phi\n",
    "timeit.timeit(\"lambda: calculate_phi(present_yields, 'soy')\")"
   ]
  },
  {
   "cell_type": "code",
   "execution_count": 371,
   "metadata": {},
   "outputs": [
    {
     "data": {
      "text/plain": [
       "0.06177171099989209"
      ]
     },
     "execution_count": 371,
     "metadata": {},
     "output_type": "execute_result"
    }
   ],
   "source": [
    "# calculate_phi_jit\n",
    "timeit.timeit(\"lambda: calculate_phi_jit(present_yields, 'soy')\")"
   ]
  }
 ],
 "metadata": {
  "kernelspec": {
   "display_name": "Python 3",
   "language": "python",
   "name": "python3"
  },
  "language_info": {
   "codemirror_mode": {
    "name": "ipython",
    "version": 3
   },
   "file_extension": ".py",
   "mimetype": "text/x-python",
   "name": "python",
   "nbconvert_exporter": "python",
   "pygments_lexer": "ipython3",
   "version": "3.7.6"
  }
 },
 "nbformat": 4,
 "nbformat_minor": 4
}
