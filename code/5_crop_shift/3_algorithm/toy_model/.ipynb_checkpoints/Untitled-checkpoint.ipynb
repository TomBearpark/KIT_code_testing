{
 "cells": [
  {
   "cell_type": "markdown",
   "metadata": {},
   "source": [
    "# Crop reallocation algorithm: toy model (numpy version)\n",
    "Trying this one more time, this time using numpy instead of xarray. Need for speed..."
   ]
  },
  {
   "cell_type": "code",
   "execution_count": 1,
   "metadata": {},
   "outputs": [
    {
     "name": "stderr",
     "output_type": "stream",
     "text": [
      "/Users/simongreenhill/miniconda3/envs/risingverse/lib/python3.7/site-packages/xarray/core/merge.py:10: FutureWarning: The Panel class is removed from pandas. Accessing it from the top-level namespace will also be removed in the next version\n",
      "  PANDAS_TYPES = (pd.Series, pd.DataFrame, pd.Panel)\n"
     ]
    }
   ],
   "source": [
    "import numpy as np\n",
    "import pandas as pd\n",
    "import xarray as xr\n",
    "import timeit\n",
    "from numba import jit"
   ]
  },
  {
   "cell_type": "markdown",
   "metadata": {},
   "source": [
    "# 1. Set up parameters\n",
    "Use data from Ishan's code, as numpy arrays"
   ]
  },
  {
   "cell_type": "code",
   "execution_count": 105,
   "metadata": {},
   "outputs": [],
   "source": [
    "# define array dims\n",
    "crops = np.array(['soy', 'rice'])\n",
    "geo0 = np.array([1])\n",
    "geo1 = np.array([1, 2, 3])\n",
    "total_acres = np.array([100, 100, 100])"
   ]
  },
  {
   "cell_type": "code",
   "execution_count": 106,
   "metadata": {},
   "outputs": [],
   "source": [
    "soy_calories_per_bushel = 25\n",
    "rice_calories_per_bushel = 15"
   ]
  },
  {
   "cell_type": "code",
   "execution_count": 107,
   "metadata": {},
   "outputs": [],
   "source": [
    "# present data\n",
    "present_soy_yields = np.array([10, 20, 15])\n",
    "present_rice_yields = np.array([20, 10, 15])\n",
    "\n",
    "present_soy_acreage = np.array([40, 70, 0])\n",
    "present_rice_acreage = np.array([60, 30, 0])\n",
    "\n",
    "present_soy_calories = present_soy_yields*soy_calories_per_bushel\n",
    "present_rice_calories = present_rice_yields*rice_calories_per_bushel\n",
    "\n",
    "present_total_planted_acreage = present_soy_acreage + present_rice_acreage"
   ]
  },
  {
   "cell_type": "code",
   "execution_count": 108,
   "metadata": {},
   "outputs": [],
   "source": [
    "# future data\n",
    "future_soy_yield_shocks = np.array([0.5, 0.8, 1])\n",
    "future_rice_yield_shocks = np.array([0.9, 0.6, 1])\n",
    "\n",
    "future_soy_yields = present_soy_yields * future_soy_yield_shocks\n",
    "future_rice_yields = present_rice_yields * future_rice_yield_shocks\n",
    "\n",
    "future_soy_calories = future_soy_yields*soy_calories_per_bushel\n",
    "future_rice_calories = future_rice_yields*rice_calories_per_bushel"
   ]
  },
  {
   "cell_type": "markdown",
   "metadata": {},
   "source": [
    "# 2. Set up functions for calculating moments"
   ]
  },
  {
   "cell_type": "code",
   "execution_count": null,
   "metadata": {},
   "outputs": [],
   "source": [
    "def calculate_gamma():\n",
    "    '''\n",
    "    Docstring here!\n",
    "    '''\n",
    "    return"
   ]
  },
  {
   "cell_type": "code",
   "execution_count": 145,
   "metadata": {
    "scrolled": true
   },
   "outputs": [
    {
     "data": {
      "text/plain": [
       "0"
      ]
     },
     "execution_count": 145,
     "metadata": {},
     "output_type": "execute_result"
    }
   ],
   "source": [
    "np.argwhere(crop_acreage == 0).size"
   ]
  },
  {
   "cell_type": "code",
   "execution_count": 153,
   "metadata": {},
   "outputs": [],
   "source": [
    "# @jit(nopython=True)\n",
    "def analyze_empty_acreage(total_acres, acres_planted, yields, crop_acreage):\n",
    "    '''\n",
    "    Docstring here!\n",
    "    '''\n",
    "    empty_acres = total_acres - acres_planted\n",
    "\n",
    "    # assert(all(empty_acres >= 0))\n",
    "\n",
    "    empty_max_yield = yields[empty_acres > 0].max()\n",
    "    empty_max_id = np.argwhere(\n",
    "        (empty_acres > 0) & (yields == empty_max_yield)).item()\n",
    "\n",
    "    used_min_yield = yields[acres_planted > 0].min()\n",
    "    used_min_id = np.argwhere(\n",
    "        (crop_acreage > 0) & (yields == used_min_yield))\n",
    "    \n",
    "    if used_min_id.size == 0:\n",
    "        used_min_id = np.nan\n",
    "    else:\n",
    "        used_min_id = used_min_id.item()\n",
    "\n",
    "    return [empty_max_id, used_min_id]"
   ]
  },
  {
   "cell_type": "code",
   "execution_count": 59,
   "metadata": {},
   "outputs": [],
   "source": [
    "empty_max_id, used_min_id = (analyze_empty_acreage(\n",
    "    total_acres, present_total_planted_acreage, present_soy_yields))\n",
    "\n",
    "acreage = present_soy_acreage\n",
    "\n",
    "acreage[empty_max_id] += 1\n",
    "acreage[used_min_id] -= 1"
   ]
  },
  {
   "cell_type": "code",
   "execution_count": 77,
   "metadata": {},
   "outputs": [],
   "source": [
    "crop_acreage = present_soy_acreage\n",
    "yields = present_soy_yields\n",
    "acres_planted = present_total_planted_acreage\n",
    "\n",
    "# calculate actual yield\n",
    "actual_yield = sum(crop_acreage*yields)\n",
    "\n",
    "# calculate potential yield\n",
    "empty_max_id, used_min_id = analyze_empty_acreage(total_acres, acres_planted, yields)"
   ]
  },
  {
   "cell_type": "code",
   "execution_count": 83,
   "metadata": {},
   "outputs": [
    {
     "data": {
      "text/plain": [
       "0.782608695652174"
      ]
     },
     "execution_count": 83,
     "metadata": {},
     "output_type": "execute_result"
    }
   ],
   "source": [
    "while yields[empty_max_id] > yields[used_min_id]:\n",
    "    for a in crop_acreage, acres_planted:\n",
    "        a[empty_max_id] += 1\n",
    "        a[used_min_id] -= 1\n",
    "        \n",
    "    empty_max_id, used_min_id = analyze_empty_acreage(total_acres, acres_planted, yields)\n",
    "    \n",
    "potential_yield = sum(crop_acreage*yields)\n",
    "\n",
    "actual_yield/potential_yield"
   ]
  },
  {
   "cell_type": "code",
   "execution_count": 95,
   "metadata": {},
   "outputs": [
    {
     "data": {
      "text/plain": [
       "1800"
      ]
     },
     "execution_count": 95,
     "metadata": {},
     "output_type": "execute_result"
    }
   ],
   "source": [
    "(present_soy_yields * present_soy_acreage).sum()"
   ]
  },
  {
   "cell_type": "code",
   "execution_count": null,
   "metadata": {},
   "outputs": [],
   "source": []
  },
  {
   "cell_type": "code",
   "execution_count": 160,
   "metadata": {},
   "outputs": [],
   "source": [
    "used_min_id = np.nan"
   ]
  },
  {
   "cell_type": "code",
   "execution_count": 157,
   "metadata": {},
   "outputs": [],
   "source": [
    "# @jit(nopython=True)\n",
    "def calculate_phi(yields, crop_acreage, acres_planted):\n",
    "    '''\n",
    "    docstring here!\n",
    "    '''\n",
    "    # calculate actual yield\n",
    "    actual_yield = (crop_acreage*yields).sum()\n",
    "\n",
    "    # calculate potential yield\n",
    "    empty_max_id, used_min_id = (\n",
    "        analyze_empty_acreage(total_acres, acres_planted, yields, crop_acreage))\n",
    "    \n",
    "    crop_acreage = crop_acreage.copy()\n",
    "    acres_planted = acres_planted.copy()\n",
    "    \n",
    "    while yields[empty_max_id] > yields[used_min_id] and used_min_id != np.nan:\n",
    "        for a in crop_acreage, acres_planted:\n",
    "            a[empty_max_id] += 1\n",
    "            a[used_min_id] -= 1\n",
    "\n",
    "        empty_max_id, used_min_id = (\n",
    "            analyze_empty_acreage(total_acres, acres_planted, yields, crop_acreage))\n",
    "        \n",
    "        print(used_min_id)\n",
    "    \n",
    "    potential_yield = (crop_acreage*yields).sum()\n",
    "\n",
    "    return actual_yield/potential_yield"
   ]
  },
  {
   "cell_type": "code",
   "execution_count": 158,
   "metadata": {},
   "outputs": [
    {
     "name": "stdout",
     "output_type": "stream",
     "text": [
      "0\n",
      "0\n",
      "0\n",
      "0\n",
      "0\n",
      "0\n",
      "0\n",
      "0\n",
      "0\n",
      "0\n",
      "0\n",
      "0\n",
      "0\n",
      "0\n",
      "0\n",
      "0\n",
      "0\n",
      "0\n",
      "0\n",
      "0\n",
      "0\n",
      "0\n",
      "0\n",
      "0\n",
      "0\n",
      "0\n",
      "0\n",
      "0\n",
      "0\n",
      "0\n",
      "0\n",
      "0\n",
      "0\n",
      "0\n",
      "0\n",
      "0\n",
      "0\n",
      "0\n",
      "0\n",
      "nan\n"
     ]
    },
    {
     "ename": "IndexError",
     "evalue": "only integers, slices (`:`), ellipsis (`...`), numpy.newaxis (`None`) and integer or boolean arrays are valid indices",
     "output_type": "error",
     "traceback": [
      "\u001b[0;31m---------------------------------------------------------------------------\u001b[0m",
      "\u001b[0;31mIndexError\u001b[0m                                Traceback (most recent call last)",
      "\u001b[0;32m<ipython-input-158-de979415dcbc>\u001b[0m in \u001b[0;36m<module>\u001b[0;34m\u001b[0m\n\u001b[0;32m----> 1\u001b[0;31m \u001b[0mcalculate_phi\u001b[0m\u001b[0;34m(\u001b[0m\u001b[0mpresent_soy_yields\u001b[0m\u001b[0;34m,\u001b[0m \u001b[0mpresent_soy_acreage\u001b[0m\u001b[0;34m,\u001b[0m \u001b[0mpresent_total_planted_acreage\u001b[0m\u001b[0;34m)\u001b[0m\u001b[0;34m\u001b[0m\u001b[0;34m\u001b[0m\u001b[0m\n\u001b[0m",
      "\u001b[0;32m<ipython-input-157-433861cbf83b>\u001b[0m in \u001b[0;36mcalculate_phi\u001b[0;34m(yields, crop_acreage, acres_planted)\u001b[0m\n\u001b[1;32m     14\u001b[0m     \u001b[0macres_planted\u001b[0m \u001b[0;34m=\u001b[0m \u001b[0macres_planted\u001b[0m\u001b[0;34m.\u001b[0m\u001b[0mcopy\u001b[0m\u001b[0;34m(\u001b[0m\u001b[0;34m)\u001b[0m\u001b[0;34m\u001b[0m\u001b[0;34m\u001b[0m\u001b[0m\n\u001b[1;32m     15\u001b[0m \u001b[0;34m\u001b[0m\u001b[0m\n\u001b[0;32m---> 16\u001b[0;31m     \u001b[0;32mwhile\u001b[0m \u001b[0myields\u001b[0m\u001b[0;34m[\u001b[0m\u001b[0mempty_max_id\u001b[0m\u001b[0;34m]\u001b[0m \u001b[0;34m>\u001b[0m \u001b[0myields\u001b[0m\u001b[0;34m[\u001b[0m\u001b[0mused_min_id\u001b[0m\u001b[0;34m]\u001b[0m \u001b[0;32mand\u001b[0m \u001b[0mused_min_id\u001b[0m \u001b[0;34m!=\u001b[0m \u001b[0mnp\u001b[0m\u001b[0;34m.\u001b[0m\u001b[0mnan\u001b[0m\u001b[0;34m:\u001b[0m\u001b[0;34m\u001b[0m\u001b[0;34m\u001b[0m\u001b[0m\n\u001b[0m\u001b[1;32m     17\u001b[0m         \u001b[0;32mfor\u001b[0m \u001b[0ma\u001b[0m \u001b[0;32min\u001b[0m \u001b[0mcrop_acreage\u001b[0m\u001b[0;34m,\u001b[0m \u001b[0macres_planted\u001b[0m\u001b[0;34m:\u001b[0m\u001b[0;34m\u001b[0m\u001b[0;34m\u001b[0m\u001b[0m\n\u001b[1;32m     18\u001b[0m             \u001b[0ma\u001b[0m\u001b[0;34m[\u001b[0m\u001b[0mempty_max_id\u001b[0m\u001b[0;34m]\u001b[0m \u001b[0;34m+=\u001b[0m \u001b[0;36m1\u001b[0m\u001b[0;34m\u001b[0m\u001b[0;34m\u001b[0m\u001b[0m\n",
      "\u001b[0;31mIndexError\u001b[0m: only integers, slices (`:`), ellipsis (`...`), numpy.newaxis (`None`) and integer or boolean arrays are valid indices"
     ]
    }
   ],
   "source": [
    "calculate_phi(present_soy_yields, present_soy_acreage, present_total_planted_acreage)"
   ]
  },
  {
   "cell_type": "code",
   "execution_count": 121,
   "metadata": {},
   "outputs": [
    {
     "data": {
      "text/plain": [
       "0.75"
      ]
     },
     "execution_count": 121,
     "metadata": {},
     "output_type": "execute_result"
    }
   ],
   "source": [
    "calculate_phi(present_rice_yields, present_rice_acreage, present_total_planted_acreage)"
   ]
  },
  {
   "cell_type": "code",
   "execution_count": 122,
   "metadata": {},
   "outputs": [
    {
     "data": {
      "text/plain": [
       "array([60, 30,  0])"
      ]
     },
     "execution_count": 122,
     "metadata": {},
     "output_type": "execute_result"
    }
   ],
   "source": [
    "present_rice_acreage"
   ]
  },
  {
   "cell_type": "markdown",
   "metadata": {},
   "source": [
    "# Benchmark"
   ]
  },
  {
   "cell_type": "code",
   "execution_count": 104,
   "metadata": {},
   "outputs": [
    {
     "data": {
      "text/plain": [
       "1.0"
      ]
     },
     "execution_count": 104,
     "metadata": {},
     "output_type": "execute_result"
    }
   ],
   "source": [
    "calculate_phi(present_rice_yields, present_rice_acreage, present_total_planted_acreage)"
   ]
  },
  {
   "cell_type": "code",
   "execution_count": 123,
   "metadata": {},
   "outputs": [
    {
     "data": {
      "text/plain": [
       "[0.061153436000495276,\n",
       " 0.049419438999393606,\n",
       " 0.04759722000017064,\n",
       " 0.04571369999939634,\n",
       " 0.0460217099998772]"
      ]
     },
     "execution_count": 123,
     "metadata": {},
     "output_type": "execute_result"
    }
   ],
   "source": [
    "timeit.repeat(\"lambda: calculate_phi(present_rice_yields, present_rice_acreage, present_total_planted_acreage)\")"
   ]
  }
 ],
 "metadata": {
  "kernelspec": {
   "display_name": "Python 3",
   "language": "python",
   "name": "python3"
  },
  "language_info": {
   "codemirror_mode": {
    "name": "ipython",
    "version": 3
   },
   "file_extension": ".py",
   "mimetype": "text/x-python",
   "name": "python",
   "nbconvert_exporter": "python",
   "pygments_lexer": "ipython3",
   "version": "3.7.6"
  }
 },
 "nbformat": 4,
 "nbformat_minor": 4
}
